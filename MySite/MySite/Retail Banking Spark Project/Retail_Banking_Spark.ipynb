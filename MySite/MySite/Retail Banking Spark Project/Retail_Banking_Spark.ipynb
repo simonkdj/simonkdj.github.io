{
 "cells": [
  {
   "cell_type": "code",
   "execution_count": 0,
   "metadata": {
    "application/vnd.databricks.v1+cell": {
     "cellMetadata": {
      "byteLimit": 2048000,
      "rowLimit": 10000
     },
     "inputWidgets": {},
     "nuid": "58e4a9cf-1db4-46dc-b452-e329a40ace1b",
     "showTitle": false,
     "title": ""
    }
   },
   "outputs": [],
   "source": [
    "from pyspark.sql import SparkSession\n",
    "\n",
    "#create a session\n",
    "\n",
    "ss = SparkSession.builder.appName(\"Retail Banking Spark Project\").getOrCreate()"
   ]
  },
  {
   "cell_type": "code",
   "execution_count": 0,
   "metadata": {
    "application/vnd.databricks.v1+cell": {
     "cellMetadata": {
      "byteLimit": 2048000,
      "rowLimit": 10000
     },
     "inputWidgets": {},
     "nuid": "a112642e-6d92-489f-a651-89150891ff6d",
     "showTitle": false,
     "title": ""
    }
   },
   "outputs": [],
   "source": [
    "from pyspark.sql.types import StructField, StructType, StringType, IntegerType, DateType, DecimalType, BooleanType, TimestampType, ShortType, VarcharType, CharType"
   ]
  },
  {
   "cell_type": "code",
   "execution_count": 0,
   "metadata": {
    "application/vnd.databricks.v1+cell": {
     "cellMetadata": {
      "byteLimit": 2048000,
      "rowLimit": 10000
     },
     "inputWidgets": {},
     "nuid": "3e239527-b60c-4ca9-a4ca-44c2d73ba466",
     "showTitle": false,
     "title": ""
    }
   },
   "outputs": [],
   "source": [
    "from pyspark.sql.functions import col, sum, avg, row_number, when, trim, lit"
   ]
  },
  {
   "cell_type": "code",
   "execution_count": 0,
   "metadata": {
    "application/vnd.databricks.v1+cell": {
     "cellMetadata": {
      "byteLimit": 2048000,
      "rowLimit": 10000
     },
     "inputWidgets": {},
     "nuid": "31462951-394a-4c73-8fed-0ffa4937e848",
     "showTitle": false,
     "title": ""
    }
   },
   "outputs": [
    {
     "output_type": "display_data",
     "data": {
      "application/vnd.databricks.v1+bamboolib_hint": "{\"pd.DataFrames\": [], \"version\": \"0.0.1\"}",
      "text/plain": []
     },
     "metadata": {},
     "output_type": "display_data"
    }
   ],
   "source": [
    "from pyspark.ml.feature import VectorAssembler\n",
    "from pyspark.ml.clustering import KMeans\n",
    "import pandas as pd\n",
    "import matplotlib.pyplot as plt"
   ]
  },
  {
   "cell_type": "code",
   "execution_count": 0,
   "metadata": {
    "application/vnd.databricks.v1+cell": {
     "cellMetadata": {
      "byteLimit": 2048000,
      "rowLimit": 10000
     },
     "inputWidgets": {},
     "nuid": "15e59da9-a48f-49e9-a76d-ae33a603bb55",
     "showTitle": false,
     "title": ""
    }
   },
   "outputs": [
    {
     "output_type": "display_data",
     "data": {
      "text/html": [
       "\n",
       "            <div>\n",
       "                <p><b>SparkSession - hive</b></p>\n",
       "                \n",
       "        <div>\n",
       "            <p><b>SparkContext</b></p>\n",
       "\n",
       "            <p><a href=\"/?o=696822162582778#setting/sparkui/0822-030304-tpi0s2wk/driver-419492372654908113\">Spark UI</a></p>\n",
       "\n",
       "            <dl>\n",
       "              <dt>Version</dt>\n",
       "                <dd><code>v3.3.2</code></dd>\n",
       "              <dt>Master</dt>\n",
       "                <dd><code>local[8]</code></dd>\n",
       "              <dt>AppName</dt>\n",
       "                <dd><code>Databricks Shell</code></dd>\n",
       "            </dl>\n",
       "        </div>\n",
       "        \n",
       "            </div>\n",
       "        "
      ]
     },
     "metadata": {
      "application/vnd.databricks.v1+output": {
       "addedWidgets": {},
       "arguments": {},
       "data": "\n            <div>\n                <p><b>SparkSession - hive</b></p>\n                \n        <div>\n            <p><b>SparkContext</b></p>\n\n            <p><a href=\"/?o=696822162582778#setting/sparkui/0822-030304-tpi0s2wk/driver-419492372654908113\">Spark UI</a></p>\n\n            <dl>\n              <dt>Version</dt>\n                <dd><code>v3.3.2</code></dd>\n              <dt>Master</dt>\n                <dd><code>local[8]</code></dd>\n              <dt>AppName</dt>\n                <dd><code>Databricks Shell</code></dd>\n            </dl>\n        </div>\n        \n            </div>\n        ",
       "datasetInfos": [],
       "metadata": {},
       "removedWidgets": [],
       "textData": null,
       "type": "htmlSandbox"
      }
     },
     "output_type": "display_data"
    }
   ],
   "source": [
    "ss"
   ]
  },
  {
   "cell_type": "code",
   "execution_count": 0,
   "metadata": {
    "application/vnd.databricks.v1+cell": {
     "cellMetadata": {
      "byteLimit": 2048000,
      "rowLimit": 10000
     },
     "inputWidgets": {},
     "nuid": "ada77d21-da9e-4c80-910d-79516493cf55",
     "showTitle": false,
     "title": ""
    }
   },
   "outputs": [],
   "source": [
    "#create schemas for all 12 csv files so the datatype stays consistent or error if inconsistent.\n",
    "\n",
    "#1\n",
    "accounts_schema = StructType([\n",
    "    StructField(\"account_id\", StringType(), True),\n",
    "    StructField(\"district_id\", IntegerType(), True),\n",
    "    StructField(\"frequency\", StringType(), True),\n",
    "    StructField(\"parseddate\", DateType(), True),\n",
    "    StructField(\"year\", IntegerType(), True),   \n",
    "    StructField(\"month\", IntegerType(), True),\n",
    "    StructField(\"day\", IntegerType(), True),\n",
    "    StructField(\"date\", DateType(), True)\n",
    "])\n",
    "#2\n",
    "cards_schema = StructType([\n",
    "    StructField(\"card_id\", StringType(), True),\n",
    "    StructField(\"disp_id\", StringType(), True),\n",
    "    StructField(\"type\", StringType(), True),\n",
    "    StructField(\"year\", IntegerType(), True),   \n",
    "    StructField(\"month\", IntegerType(), True),\n",
    "    StructField(\"day\", IntegerType(), True),\n",
    "    StructField(\"date\", DateType(), True),\n",
    "    StructField(\"fulldate\", DateType(), True)\n",
    "])\n",
    "#3\n",
    "clients_schema = StructType([\n",
    "    StructField(\"client_id\", StringType(), True),\n",
    "    StructField(\"sex\", StringType(), True),\n",
    "    StructField(\"fulldate\", DateType(), True),\n",
    "    StructField(\"day\", IntegerType(), True),\n",
    "    StructField(\"month\", IntegerType(), True),\n",
    "    StructField(\"year\", IntegerType(), True),  \n",
    "    StructField(\"date\", DateType(), True),\n",
    "    StructField(\"age\", ShortType(), True),\n",
    "    StructField(\"social\", StringType(), True),\n",
    "    StructField(\"first\", StringType(), True),\n",
    "    StructField(\"middle\", StringType(), True),\n",
    "    StructField(\"last\", StringType(), True),\n",
    "    StructField(\"phone\", StringType(), True),\n",
    "    StructField(\"email\", StringType(), True),\n",
    "    StructField(\"address_1\", StringType(), True),\n",
    "    StructField(\"address_2\", StringType(), True),\n",
    "    StructField(\"city\", StringType(), True),\n",
    "    StructField(\"state\", StringType(), True),\n",
    "    StructField(\"zipcode\", IntegerType(), True),\n",
    "    StructField(\"district_id\", IntegerType(), True)\n",
    "])\n",
    "#4\n",
    "dispositions_schema = StructType([\n",
    "    StructField(\"disp_id\",StringType(),True),\n",
    "    StructField(\"client_id\",StringType(),True),\n",
    "    StructField(\"account_id\",StringType(),True),\n",
    "    StructField(\"type\",StringType(),True)\n",
    "])\n",
    "\n",
    "#5\n",
    "districts_schema = StructType([\n",
    "    StructField(\"district_id\", IntegerType(), True),\n",
    "    StructField(\"city\", StringType(), True),\n",
    "    StructField(\"state_name\", StringType(), True),\n",
    "    StructField(\"state_abbrev\", StringType(), True),\n",
    "    StructField(\"region\", StringType(), True),\n",
    "    StructField(\"division\", StringType(), True)\n",
    "])\n",
    "\n",
    "#6\n",
    "loans_schema = StructType([\n",
    "    StructField(\"loan_id\", DecimalType(10, 2), True), \n",
    "    StructField(\"account_id\", StringType(), True),\n",
    "    StructField(\"amount\", IntegerType(), True),\n",
    "    StructField(\"duration\", IntegerType(), True),\n",
    "    StructField(\"payments\", IntegerType(), True),\n",
    "    StructField(\"status\", StringType(), True),\n",
    "    StructField(\"year\", IntegerType(), True),  \n",
    "    StructField(\"month\", IntegerType(), True),\n",
    "    StructField(\"day\", IntegerType(), True),\n",
    "    StructField(\"date\", DateType(), True),\n",
    "    StructField(\"fulldate\", DateType(), True),\n",
    "    StructField(\"location\", IntegerType(), True),\n",
    "    StructField(\"purpose\", StringType(), True)\n",
    "])\n",
    "\n",
    "#7\n",
    "orders_schema = StructType([\n",
    "    StructField(\"order_id\", IntegerType(), True),\n",
    "    StructField(\"account_id\", StringType(), True),\n",
    "    StructField(\"bank_to\", StringType(), True),\n",
    "    StructField(\"account_to\", IntegerType(), True),\n",
    "    StructField(\"amount\", DecimalType(10, 2), True),\n",
    "    StructField(\"k_symbol\", StringType(), True)\n",
    "])\n",
    "\n",
    "#8\n",
    "transactions_schema = StructType([\n",
    "    StructField(\"column_a\", IntegerType(), True),\n",
    "    StructField(\"trans_id\", StringType(), True),\n",
    "    StructField(\"account_id\", StringType(), True),\n",
    "    StructField(\"type\", StringType(), True),\n",
    "    StructField(\"operation\", StringType(), True),\n",
    "    StructField(\"amount\", DecimalType(10, 2), True),  \n",
    "    StructField(\"balance\", DecimalType(10, 2), True), \n",
    "    StructField(\"k_symbol\", StringType(), True),\n",
    "    StructField(\"bank\", StringType(), True),\n",
    "    StructField(\"account\", IntegerType(), True),\n",
    "    StructField(\"year\", IntegerType(), True),        \n",
    "    StructField(\"month\", IntegerType(), True),\n",
    "    StructField(\"day\", IntegerType(), True),\n",
    "    StructField(\"date\", DateType(), True),\n",
    "    StructField(\"fulldate\", DateType(), True),\n",
    "    StructField(\"fulltime\", StringType(), True),\n",
    "    StructField(\"fulldatewithtime\", StringType(), True)\n",
    "])\n",
    "\n",
    "#9\n",
    "crm_call_center_logs_schema = StructType([\n",
    "    StructField(\"date_received\", DateType(), True),\n",
    "    StructField(\"complaint_id\", StringType(), True),\n",
    "    StructField(\"rand_client\", StringType(), True),  \n",
    "    StructField(\"phonefinal\", StringType(), True),\n",
    "    StructField(\"vru_line\", StringType(), True),\n",
    "    StructField(\"call_id\", IntegerType(), True),\n",
    "    StructField(\"priority\", IntegerType(), True),\n",
    "    StructField(\"type\", StringType(), True),\n",
    "    StructField(\"outcome\", StringType(), True),\n",
    "    StructField(\"server\", StringType(), True),\n",
    "    StructField(\"ser_start\", TimestampType(), True),       #double check. only time format present: 00:00:00\n",
    "    StructField(\"ser_exit\", TimestampType(), True),\n",
    "    StructField(\"ser_time\", TimestampType(), True)\n",
    "])\n",
    "\n",
    "#10\n",
    "crm_events_schema = StructType([\n",
    "    StructField(\"date_received\", DateType(), True),\n",
    "    StructField(\"product\", StringType(), True),\n",
    "    StructField(\"sub_product\", StringType(), True),\n",
    "    StructField(\"issue\", StringType(), True),\n",
    "    StructField(\"sub_issue\", StringType(), True),\n",
    "    StructField(\"consumer_complaint_narrative\", StringType(), True),\n",
    "    StructField(\"tags\", StringType(), True),\n",
    "    StructField(\"consumer_consent_provided\", StringType(), True),\n",
    "    StructField(\"submitted_via\", StringType(), True),\n",
    "    StructField(\"date_sent_to_company\", DateType(), True),\n",
    "    StructField(\"company_response_to_consumer\", StringType(), True),\n",
    "    StructField(\"timely_response\", StringType(), True),\n",
    "    StructField(\"consumer_disputed\", StringType(), True),\n",
    "    StructField(\"complaint_id\", StringType(), True),\n",
    "    StructField(\"client_id\", StringType(), True)     \n",
    "])\n",
    "\n",
    "#11\n",
    "crm_reviews_schema = StructType([\n",
    "    StructField(\"date\", DateType(), True),\n",
    "    StructField(\"stars\", IntegerType(), True),\n",
    "    StructField(\"reviews\", StringType(), True),\n",
    "    StructField(\"product\", StringType(), True),\n",
    "    StructField(\"district_id\", IntegerType(), True)\n",
    "])\n",
    "\n",
    "#12\n",
    "luxury_loan_portfolio_schema = StructType([\n",
    "    StructField(\"loan_id\", StringType(), True),\n",
    "    StructField(\"funded_amount\", DecimalType(10, 2), True),          \n",
    "    StructField(\"funded_date\", DateType(), True),\n",
    "    StructField(\"duration_years\", IntegerType(), True),\n",
    "    StructField(\"duration_months\", IntegerType(), True),\n",
    "    StructField(\"10_yr_treasury_index_date_funded\", DecimalType(10, 2), True), \n",
    "    StructField(\"interest_rate_percent\", DecimalType(5, 2), True),      #decimaltype(5,2) to represent percentage\n",
    "    StructField(\"interest_rate\", DecimalType(10, 2), True),            \n",
    "    StructField(\"payments\", DecimalType(10, 2), True),\n",
    "    StructField(\"total_past_payments\", IntegerType(), True),\n",
    "    StructField(\"loan_balance\", DecimalType(10, 2), True),\n",
    "    StructField(\"property_value\", DecimalType(10, 2), True),\n",
    "    StructField(\"purpose\", StringType(), True),\n",
    "    StructField(\"firstname\", StringType(), True),\n",
    "    StructField(\"middlename\", StringType(), True),\n",
    "    StructField(\"lastname\", StringType(), True),\n",
    "    StructField(\"social\", StringType(), True),\n",
    "    StructField(\"phone\", StringType(), True),\n",
    "    StructField(\"title\", StringType(), True),\n",
    "    StructField(\"employment_length\", IntegerType(), True),\n",
    "    StructField(\"building_class_category\", StringType(), True),\n",
    "    StructField(\"tax_class_at_present\", StringType(), True),\n",
    "    StructField(\"building_class_at_present\", StringType(), True),\n",
    "    StructField(\"address_1\", StringType(), True),\n",
    "    StructField(\"address_2\", StringType(), True),\n",
    "    StructField(\"zip_code\", IntegerType(), True),\n",
    "    StructField(\"city\", StringType(), True),\n",
    "    StructField(\"state\", StringType(), True),\n",
    "    StructField(\"total_units\", IntegerType(), True),\n",
    "    StructField(\"land_square_feet\", IntegerType(), True),\n",
    "    StructField(\"gross_square_feet\", IntegerType(), True),\n",
    "    StructField(\"tax_class_at_time_of_sale\", IntegerType(), True)\n",
    "])"
   ]
  },
  {
   "cell_type": "code",
   "execution_count": 0,
   "metadata": {
    "application/vnd.databricks.v1+cell": {
     "cellMetadata": {
      "byteLimit": 2048000,
      "rowLimit": 10000
     },
     "inputWidgets": {},
     "nuid": "635912c8-a93e-4ed2-a629-f04afcecd2d8",
     "showTitle": false,
     "title": ""
    }
   },
   "outputs": [],
   "source": [
    "accounts_df = ss.read.schema(accounts_schema).format(\"csv\").option(\"header\",\"true\").load(\"s3://gunhuibucket/lpetrocelli-retail-banking-demo-data/completedacct.csv\")\n",
    "\n",
    "cards_df = ss.read.schema(cards_schema).format(\"csv\").option(\"header\",\"true\").load(\"s3://gunhuibucket/lpetrocelli-retail-banking-demo-data/completedcard.csv\")\n",
    "\n",
    "clients_df_schema = ss.read.schema(clients_schema).format(\"csv\").option(\"header\",\"true\").load(\"s3://gunhuibucket/lpetrocelli-retail-banking-demo-data/completedclient.csv\")\n",
    "#not using the schema was more efficient to keep data integrity for clients_df\n",
    "clients_df = ss.read.format(\"csv\").option(\"header\",\"true\").load(\"s3://gunhuibucket/lpetrocelli-retail-banking-demo-data/completedclient.csv\")\n",
    "\n",
    "dispositions_df = ss.read.schema(dispositions_schema).format(\"csv\").option(\"header\",\"true\").load(\"s3://gunhuibucket/lpetrocelli-retail-banking-demo-data/completeddisposition.csv\")\n",
    "\n",
    "districts_df = ss.read.schema(districts_schema).format(\"csv\").option(\"header\",\"true\").load(\"s3://gunhuibucket/lpetrocelli-retail-banking-demo-data/completeddistrict.csv\")\n",
    "\n",
    "loans_df = ss.read.schema(loans_schema).format(\"csv\").option(\"header\",\"true\").load(\"s3://gunhuibucket/lpetrocelli-retail-banking-demo-data/completedloan.csv\")\n",
    "loans_df_2 = ss.read.format(\"csv\").option(\"header\",\"true\").load(\"s3://gunhuibucket/lpetrocelli-retail-banking-demo-data/completedloan.csv\")\n",
    "\n",
    "orders_df = ss.read.schema(orders_schema).format(\"csv\").option(\"header\",\"true\").load(\"s3://gunhuibucket/lpetrocelli-retail-banking-demo-data/completedorder.csv\")\n",
    "\n",
    "transactions_df = ss.read.schema(transactions_schema).format(\"csv\").option(\"header\",\"true\").load(\"s3://gunhuibucket/lpetrocelli-retail-banking-demo-data/completedtrans.csv\")\n",
    "\n",
    "crm_call_center_logs_df = ss.read.schema(crm_call_center_logs_schema).format(\"csv\").option(\"header\",\"true\").load(\"s3://gunhuibucket/lpetrocelli-retail-banking-demo-data/CRM Call Center Logs.csv\")\n",
    "\n",
    "crm_events_df = ss.read.schema(crm_events_schema).format(\"csv\").option(\"header\",\"true\").load(\"s3://gunhuibucket/lpetrocelli-retail-banking-demo-data/CRM Events.csv\")\n",
    "\n",
    "crm_reviews_df = ss.read.schema(crm_reviews_schema).format(\"csv\").option(\"header\",\"true\").load(\"s3://gunhuibucket/lpetrocelli-retail-banking-demo-data/CRM Reviews.csv\")\n",
    "\n",
    "luxury_loan_portfolio_df = ss.read.schema(luxury_loan_portfolio_schema).format(\"csv\").option(\"header\",\"true\").load(\"s3://gunhuibucket/lpetrocelli-retail-banking-demo-data/LuxuryLoanPortfolio.csv\")"
   ]
  },
  {
   "cell_type": "markdown",
   "metadata": {
    "application/vnd.databricks.v1+cell": {
     "cellMetadata": {},
     "inputWidgets": {},
     "nuid": "9f4cebb7-6632-4613-bb9e-14fdc888020a",
     "showTitle": false,
     "title": ""
    }
   },
   "source": [
    "Display the tables and their columns to identify which columns to join with SQL in addition to performing EDA. "
   ]
  },
  {
   "cell_type": "code",
   "execution_count": 0,
   "metadata": {
    "application/vnd.databricks.v1+cell": {
     "cellMetadata": {
      "byteLimit": 2048000,
      "rowLimit": 10000
     },
     "inputWidgets": {},
     "nuid": "de4423e1-c228-41e1-8d9d-07201d3dfc0b",
     "showTitle": false,
     "title": ""
    }
   },
   "outputs": [
    {
     "output_type": "stream",
     "name": "stdout",
     "output_type": "stream",
     "text": [
      "['client_id', 'sex', 'fulldate', 'day', 'month', 'year', 'age', 'social', 'first', 'middle', 'last', 'phone', 'email', 'address_1', 'address_2', 'city', 'state', 'zipcode', 'district_id']\n[('client_id', 'string'), ('sex', 'string'), ('fulldate', 'string'), ('day', 'string'), ('month', 'string'), ('year', 'string'), ('age', 'string'), ('social', 'string'), ('first', 'string'), ('middle', 'string'), ('last', 'string'), ('phone', 'string'), ('email', 'string'), ('address_1', 'string'), ('address_2', 'string'), ('city', 'string'), ('state', 'string'), ('zipcode', 'string'), ('district_id', 'string')]\n"
     ]
    },
    {
     "output_type": "display_data",
     "data": {
      "text/html": [
       "<style scoped>\n",
       "  .table-result-container {\n",
       "    max-height: 300px;\n",
       "    overflow: auto;\n",
       "  }\n",
       "  table, th, td {\n",
       "    border: 1px solid black;\n",
       "    border-collapse: collapse;\n",
       "  }\n",
       "  th, td {\n",
       "    padding: 5px;\n",
       "  }\n",
       "  th {\n",
       "    text-align: left;\n",
       "  }\n",
       "</style><div class='table-result-container'><table class='table-result'><thead style='background-color: white'><tr><th>client_id</th><th>sex</th><th>fulldate</th><th>day</th><th>month</th><th>year</th><th>age</th><th>social</th><th>first</th><th>middle</th><th>last</th><th>phone</th><th>email</th><th>address_1</th><th>address_2</th><th>city</th><th>state</th><th>zipcode</th><th>district_id</th></tr></thead><tbody><tr><td>C00000001</td><td>Female</td><td>1990-12-13</td><td>13</td><td>12</td><td>1990</td><td>29</td><td>926-93-2157</td><td>Emma</td><td>Avaya</td><td>Smith</td><td>367-171-6840</td><td>emma.smith@gmail.com</td><td>387 Wellington Ave.</td><td>Unit 1</td><td>Albuquerque</td><td>NM</td><td>47246</td><td>18</td></tr><tr><td>C00000002</td><td>Male</td><td>1965-02-04</td><td>4</td><td>2</td><td>1965</td><td>54</td><td>806-94-5725</td><td>Noah</td><td>Everest</td><td>Thompson</td><td>212-423-7734</td><td>noah.thompson@gmail.com</td><td>75 W. Berkshire St.</td><td>null</td><td>New York City</td><td>NY</td><td>10040</td><td>1</td></tr><tr><td>C00000003</td><td>Female</td><td>1960-10-09</td><td>9</td><td>10</td><td>1960</td><td>59</td><td>614-70-9100</td><td>Olivia</td><td>Brooklynne</td><td>Johnson</td><td>212-425-6932</td><td>olivia.johnson@outlook.com</td><td>36 Second St.</td><td>null</td><td>New York City</td><td>NY</td><td>10162</td><td>1</td></tr><tr><td>C00000004</td><td>Male</td><td>1976-12-01</td><td>1</td><td>12</td><td>1976</td><td>43</td><td>580-20-3414</td><td>Liam</td><td>Irvin</td><td>White</td><td>951-567-8925</td><td>liam.white@gmail.com</td><td>7607 Sunnyslope Street</td><td>null</td><td>Indianapolis</td><td>IN</td><td>49047</td><td>5</td></tr><tr><td>C00000005</td><td>Female</td><td>1980-07-03</td><td>3</td><td>7</td><td>1980</td><td>39</td><td>536-14-5809</td><td>Sophia</td><td>Danae</td><td>Williams</td><td>428-265-1568</td><td>sophia.williams@gmail.com</td><td>755 Galvin Street</td><td>null</td><td>Indianapolis</td><td>IN</td><td>40852</td><td>5</td></tr></tbody></table></div>"
      ]
     },
     "metadata": {
      "application/vnd.databricks.v1+output": {
       "addedWidgets": {},
       "aggData": [],
       "aggError": "",
       "aggOverflow": false,
       "aggSchema": [],
       "aggSeriesLimitReached": false,
       "aggType": "",
       "arguments": {},
       "columnCustomDisplayInfos": {},
       "data": [
        [
         "C00000001",
         "Female",
         "1990-12-13",
         "13",
         "12",
         "1990",
         "29",
         "926-93-2157",
         "Emma",
         "Avaya",
         "Smith",
         "367-171-6840",
         "emma.smith@gmail.com",
         "387 Wellington Ave.",
         "Unit 1",
         "Albuquerque",
         "NM",
         "47246",
         "18"
        ],
        [
         "C00000002",
         "Male",
         "1965-02-04",
         "4",
         "2",
         "1965",
         "54",
         "806-94-5725",
         "Noah",
         "Everest",
         "Thompson",
         "212-423-7734",
         "noah.thompson@gmail.com",
         "75 W. Berkshire St.",
         null,
         "New York City",
         "NY",
         "10040",
         "1"
        ],
        [
         "C00000003",
         "Female",
         "1960-10-09",
         "9",
         "10",
         "1960",
         "59",
         "614-70-9100",
         "Olivia",
         "Brooklynne",
         "Johnson",
         "212-425-6932",
         "olivia.johnson@outlook.com",
         "36 Second St.",
         null,
         "New York City",
         "NY",
         "10162",
         "1"
        ],
        [
         "C00000004",
         "Male",
         "1976-12-01",
         "1",
         "12",
         "1976",
         "43",
         "580-20-3414",
         "Liam",
         "Irvin",
         "White",
         "951-567-8925",
         "liam.white@gmail.com",
         "7607 Sunnyslope Street",
         null,
         "Indianapolis",
         "IN",
         "49047",
         "5"
        ],
        [
         "C00000005",
         "Female",
         "1980-07-03",
         "3",
         "7",
         "1980",
         "39",
         "536-14-5809",
         "Sophia",
         "Danae",
         "Williams",
         "428-265-1568",
         "sophia.williams@gmail.com",
         "755 Galvin Street",
         null,
         "Indianapolis",
         "IN",
         "40852",
         "5"
        ]
       ],
       "datasetInfos": [],
       "dbfsResultPath": null,
       "isJsonSchema": true,
       "metadata": {},
       "overflow": false,
       "plotOptions": {
        "customPlotOptions": {},
        "displayType": "table",
        "pivotAggregation": null,
        "pivotColumns": null,
        "xColumns": null,
        "yColumns": null
       },
       "removedWidgets": [],
       "schema": [
        {
         "metadata": "{}",
         "name": "client_id",
         "type": "\"string\""
        },
        {
         "metadata": "{}",
         "name": "sex",
         "type": "\"string\""
        },
        {
         "metadata": "{}",
         "name": "fulldate",
         "type": "\"string\""
        },
        {
         "metadata": "{}",
         "name": "day",
         "type": "\"string\""
        },
        {
         "metadata": "{}",
         "name": "month",
         "type": "\"string\""
        },
        {
         "metadata": "{}",
         "name": "year",
         "type": "\"string\""
        },
        {
         "metadata": "{}",
         "name": "age",
         "type": "\"string\""
        },
        {
         "metadata": "{}",
         "name": "social",
         "type": "\"string\""
        },
        {
         "metadata": "{}",
         "name": "first",
         "type": "\"string\""
        },
        {
         "metadata": "{}",
         "name": "middle",
         "type": "\"string\""
        },
        {
         "metadata": "{}",
         "name": "last",
         "type": "\"string\""
        },
        {
         "metadata": "{}",
         "name": "phone",
         "type": "\"string\""
        },
        {
         "metadata": "{}",
         "name": "email",
         "type": "\"string\""
        },
        {
         "metadata": "{}",
         "name": "address_1",
         "type": "\"string\""
        },
        {
         "metadata": "{}",
         "name": "address_2",
         "type": "\"string\""
        },
        {
         "metadata": "{}",
         "name": "city",
         "type": "\"string\""
        },
        {
         "metadata": "{}",
         "name": "state",
         "type": "\"string\""
        },
        {
         "metadata": "{}",
         "name": "zipcode",
         "type": "\"string\""
        },
        {
         "metadata": "{}",
         "name": "district_id",
         "type": "\"string\""
        }
       ],
       "type": "table"
      }
     },
     "output_type": "display_data"
    }
   ],
   "source": [
    "print(clients_df.columns)\n",
    "print(clients_df.dtypes)\n",
    "display(clients_df.head(5))"
   ]
  },
  {
   "cell_type": "code",
   "execution_count": 0,
   "metadata": {
    "application/vnd.databricks.v1+cell": {
     "cellMetadata": {
      "byteLimit": 2048000,
      "rowLimit": 10000
     },
     "inputWidgets": {},
     "nuid": "f39b20c8-f371-49d7-bf55-a8188de44e2a",
     "showTitle": false,
     "title": ""
    }
   },
   "outputs": [
    {
     "output_type": "stream",
     "name": "stdout",
     "output_type": "stream",
     "text": [
      "['account_id', 'district_id', 'frequency', 'date', 'year', 'month', 'day']\n[('account_id', 'string'), ('district_id', 'int'), ('frequency', 'string'), ('date', 'date'), ('year', 'int'), ('month', 'int'), ('day', 'int')]\n"
     ]
    },
    {
     "output_type": "display_data",
     "data": {
      "text/html": [
       "<style scoped>\n",
       "  .table-result-container {\n",
       "    max-height: 300px;\n",
       "    overflow: auto;\n",
       "  }\n",
       "  table, th, td {\n",
       "    border: 1px solid black;\n",
       "    border-collapse: collapse;\n",
       "  }\n",
       "  th, td {\n",
       "    padding: 5px;\n",
       "  }\n",
       "  th {\n",
       "    text-align: left;\n",
       "  }\n",
       "</style><div class='table-result-container'><table class='table-result'><thead style='background-color: white'><tr><th>account_id</th><th>district_id</th><th>frequency</th><th>date</th><th>year</th><th>month</th><th>day</th></tr></thead><tbody><tr><td>A00000576</td><td>55</td><td>Monthly Issuance</td><td>2013-01-01</td><td>2013</td><td>1</td><td>1</td></tr><tr><td>A00003818</td><td>74</td><td>Monthly Issuance</td><td>2013-01-01</td><td>2013</td><td>1</td><td>1</td></tr><tr><td>A00000704</td><td>55</td><td>Monthly Issuance</td><td>2013-01-01</td><td>2013</td><td>1</td><td>1</td></tr><tr><td>A00002378</td><td>16</td><td>Monthly Issuance</td><td>2013-01-01</td><td>2013</td><td>1</td><td>1</td></tr><tr><td>A00002632</td><td>24</td><td>Monthly Issuance</td><td>2013-01-02</td><td>2013</td><td>1</td><td>2</td></tr></tbody></table></div>"
      ]
     },
     "metadata": {
      "application/vnd.databricks.v1+output": {
       "addedWidgets": {},
       "aggData": [],
       "aggError": "",
       "aggOverflow": false,
       "aggSchema": [],
       "aggSeriesLimitReached": false,
       "aggType": "",
       "arguments": {},
       "columnCustomDisplayInfos": {},
       "data": [
        [
         "A00000576",
         55,
         "Monthly Issuance",
         "2013-01-01",
         2013,
         1,
         1
        ],
        [
         "A00003818",
         74,
         "Monthly Issuance",
         "2013-01-01",
         2013,
         1,
         1
        ],
        [
         "A00000704",
         55,
         "Monthly Issuance",
         "2013-01-01",
         2013,
         1,
         1
        ],
        [
         "A00002378",
         16,
         "Monthly Issuance",
         "2013-01-01",
         2013,
         1,
         1
        ],
        [
         "A00002632",
         24,
         "Monthly Issuance",
         "2013-01-02",
         2013,
         1,
         2
        ]
       ],
       "datasetInfos": [],
       "dbfsResultPath": null,
       "isJsonSchema": true,
       "metadata": {},
       "overflow": false,
       "plotOptions": {
        "customPlotOptions": {},
        "displayType": "table",
        "pivotAggregation": null,
        "pivotColumns": null,
        "xColumns": null,
        "yColumns": null
       },
       "removedWidgets": [],
       "schema": [
        {
         "metadata": "{}",
         "name": "account_id",
         "type": "\"string\""
        },
        {
         "metadata": "{}",
         "name": "district_id",
         "type": "\"long\""
        },
        {
         "metadata": "{}",
         "name": "frequency",
         "type": "\"string\""
        },
        {
         "metadata": "{}",
         "name": "date",
         "type": "\"date\""
        },
        {
         "metadata": "{}",
         "name": "year",
         "type": "\"long\""
        },
        {
         "metadata": "{}",
         "name": "month",
         "type": "\"long\""
        },
        {
         "metadata": "{}",
         "name": "day",
         "type": "\"long\""
        }
       ],
       "type": "table"
      }
     },
     "output_type": "display_data"
    }
   ],
   "source": [
    "accounts_df = accounts_df.drop(\"date\")\n",
    "accounts_df = accounts_df.withColumnRenamed(\"parseddate\",\"date\")\n",
    "print(accounts_df.columns)\n",
    "print(accounts_df.dtypes)\n",
    "display(accounts_df.head(5))\n"
   ]
  },
  {
   "cell_type": "code",
   "execution_count": 0,
   "metadata": {
    "application/vnd.databricks.v1+cell": {
     "cellMetadata": {
      "byteLimit": 2048000,
      "rowLimit": 10000
     },
     "inputWidgets": {},
     "nuid": "cd8f0b82-d14a-4300-b2f0-45ae8b971376",
     "showTitle": false,
     "title": ""
    }
   },
   "outputs": [
    {
     "output_type": "stream",
     "name": "stdout",
     "output_type": "stream",
     "text": [
      "['disp_id', 'client_id', 'account_id', 'type']\n[('disp_id', 'string'), ('client_id', 'string'), ('account_id', 'string'), ('type', 'string')]\n"
     ]
    },
    {
     "output_type": "display_data",
     "data": {
      "text/html": [
       "<style scoped>\n",
       "  .table-result-container {\n",
       "    max-height: 300px;\n",
       "    overflow: auto;\n",
       "  }\n",
       "  table, th, td {\n",
       "    border: 1px solid black;\n",
       "    border-collapse: collapse;\n",
       "  }\n",
       "  th, td {\n",
       "    padding: 5px;\n",
       "  }\n",
       "  th {\n",
       "    text-align: left;\n",
       "  }\n",
       "</style><div class='table-result-container'><table class='table-result'><thead style='background-color: white'><tr><th>disp_id</th><th>client_id</th><th>account_id</th><th>type</th></tr></thead><tbody><tr><td>D00000001</td><td>C00000001</td><td>A00000001</td><td>Owner</td></tr><tr><td>D00000002</td><td>C00000002</td><td>A00000002</td><td>Owner</td></tr><tr><td>D00000003</td><td>C00000003</td><td>A00000002</td><td>User</td></tr><tr><td>D00000004</td><td>C00000004</td><td>A00000003</td><td>Owner</td></tr><tr><td>D00000005</td><td>C00000005</td><td>A00000003</td><td>User</td></tr></tbody></table></div>"
      ]
     },
     "metadata": {
      "application/vnd.databricks.v1+output": {
       "addedWidgets": {},
       "aggData": [],
       "aggError": "",
       "aggOverflow": false,
       "aggSchema": [],
       "aggSeriesLimitReached": false,
       "aggType": "",
       "arguments": {},
       "columnCustomDisplayInfos": {},
       "data": [
        [
         "D00000001",
         "C00000001",
         "A00000001",
         "Owner"
        ],
        [
         "D00000002",
         "C00000002",
         "A00000002",
         "Owner"
        ],
        [
         "D00000003",
         "C00000003",
         "A00000002",
         "User"
        ],
        [
         "D00000004",
         "C00000004",
         "A00000003",
         "Owner"
        ],
        [
         "D00000005",
         "C00000005",
         "A00000003",
         "User"
        ]
       ],
       "datasetInfos": [],
       "dbfsResultPath": null,
       "isJsonSchema": true,
       "metadata": {},
       "overflow": false,
       "plotOptions": {
        "customPlotOptions": {},
        "displayType": "table",
        "pivotAggregation": null,
        "pivotColumns": null,
        "xColumns": null,
        "yColumns": null
       },
       "removedWidgets": [],
       "schema": [
        {
         "metadata": "{}",
         "name": "disp_id",
         "type": "\"string\""
        },
        {
         "metadata": "{}",
         "name": "client_id",
         "type": "\"string\""
        },
        {
         "metadata": "{}",
         "name": "account_id",
         "type": "\"string\""
        },
        {
         "metadata": "{}",
         "name": "type",
         "type": "\"string\""
        }
       ],
       "type": "table"
      }
     },
     "output_type": "display_data"
    }
   ],
   "source": [
    "print(dispositions_df.columns)\n",
    "print(dispositions_df.dtypes)\n",
    "display(dispositions_df.head(5))"
   ]
  },
  {
   "cell_type": "code",
   "execution_count": 0,
   "metadata": {
    "application/vnd.databricks.v1+cell": {
     "cellMetadata": {
      "byteLimit": 2048000,
      "rowLimit": 10000
     },
     "inputWidgets": {},
     "nuid": "8678f4cc-3679-4f59-a5d7-7ab5274da4df",
     "showTitle": false,
     "title": ""
    }
   },
   "outputs": [
    {
     "output_type": "stream",
     "name": "stdout",
     "output_type": "stream",
     "text": [
      "['district_id', 'city', 'state_name', 'state_abbrev', 'region', 'division']\n[('district_id', 'int'), ('city', 'string'), ('state_name', 'string'), ('state_abbrev', 'string'), ('region', 'string'), ('division', 'string')]\n"
     ]
    },
    {
     "output_type": "display_data",
     "data": {
      "text/html": [
       "<style scoped>\n",
       "  .table-result-container {\n",
       "    max-height: 300px;\n",
       "    overflow: auto;\n",
       "  }\n",
       "  table, th, td {\n",
       "    border: 1px solid black;\n",
       "    border-collapse: collapse;\n",
       "  }\n",
       "  th, td {\n",
       "    padding: 5px;\n",
       "  }\n",
       "  th {\n",
       "    text-align: left;\n",
       "  }\n",
       "</style><div class='table-result-container'><table class='table-result'><thead style='background-color: white'><tr><th>district_id</th><th>city</th><th>state_name</th><th>state_abbrev</th><th>region</th><th>division</th></tr></thead><tbody><tr><td>1</td><td>New York City</td><td>New York</td><td>NY</td><td>Northeast</td><td>Middle Atlantic</td></tr><tr><td>2</td><td>Jacksonville</td><td>Florida</td><td>FL</td><td>South</td><td>South Atlantic</td></tr><tr><td>3</td><td>Columbus</td><td>Ohio</td><td>OH</td><td>Midwest</td><td>East North Central</td></tr><tr><td>4</td><td>Charlotte</td><td>North Carolina</td><td>NC</td><td>South</td><td>South Atlantic</td></tr><tr><td>5</td><td>Indianapolis</td><td>Indiana</td><td>IN</td><td>Northeast</td><td>East North Central</td></tr></tbody></table></div>"
      ]
     },
     "metadata": {
      "application/vnd.databricks.v1+output": {
       "addedWidgets": {},
       "aggData": [],
       "aggError": "",
       "aggOverflow": false,
       "aggSchema": [],
       "aggSeriesLimitReached": false,
       "aggType": "",
       "arguments": {},
       "columnCustomDisplayInfos": {},
       "data": [
        [
         1,
         "New York City",
         "New York",
         "NY",
         "Northeast",
         "Middle Atlantic"
        ],
        [
         2,
         "Jacksonville",
         "Florida",
         "FL",
         "South",
         "South Atlantic"
        ],
        [
         3,
         "Columbus",
         "Ohio",
         "OH",
         "Midwest",
         "East North Central"
        ],
        [
         4,
         "Charlotte",
         "North Carolina",
         "NC",
         "South",
         "South Atlantic"
        ],
        [
         5,
         "Indianapolis",
         "Indiana",
         "IN",
         "Northeast",
         "East North Central"
        ]
       ],
       "datasetInfos": [],
       "dbfsResultPath": null,
       "isJsonSchema": true,
       "metadata": {},
       "overflow": false,
       "plotOptions": {
        "customPlotOptions": {},
        "displayType": "table",
        "pivotAggregation": null,
        "pivotColumns": null,
        "xColumns": null,
        "yColumns": null
       },
       "removedWidgets": [],
       "schema": [
        {
         "metadata": "{}",
         "name": "district_id",
         "type": "\"long\""
        },
        {
         "metadata": "{}",
         "name": "city",
         "type": "\"string\""
        },
        {
         "metadata": "{}",
         "name": "state_name",
         "type": "\"string\""
        },
        {
         "metadata": "{}",
         "name": "state_abbrev",
         "type": "\"string\""
        },
        {
         "metadata": "{}",
         "name": "region",
         "type": "\"string\""
        },
        {
         "metadata": "{}",
         "name": "division",
         "type": "\"string\""
        }
       ],
       "type": "table"
      }
     },
     "output_type": "display_data"
    }
   ],
   "source": [
    "print(districts_df.columns)\n",
    "print(districts_df.dtypes)\n",
    "display(districts_df.head(5))"
   ]
  },
  {
   "cell_type": "code",
   "execution_count": 0,
   "metadata": {
    "application/vnd.databricks.v1+cell": {
     "cellMetadata": {
      "byteLimit": 2048000,
      "rowLimit": 10000
     },
     "inputWidgets": {},
     "nuid": "4a740422-6fee-4fb3-86a6-0caafa76c845",
     "showTitle": false,
     "title": ""
    }
   },
   "outputs": [
    {
     "output_type": "stream",
     "name": "stdout",
     "output_type": "stream",
     "text": [
      "['loan_id', 'account_id', 'amount', 'duration', 'payments', 'status', 'year', 'month', 'day', 'fulldate', 'location', 'purpose']\n[('loan_id', 'string'), ('account_id', 'string'), ('amount', 'string'), ('duration', 'string'), ('payments', 'string'), ('status', 'string'), ('year', 'string'), ('month', 'string'), ('day', 'string'), ('fulldate', 'string'), ('location', 'string'), ('purpose', 'string')]\n"
     ]
    },
    {
     "output_type": "display_data",
     "data": {
      "text/html": [
       "<style scoped>\n",
       "  .table-result-container {\n",
       "    max-height: 300px;\n",
       "    overflow: auto;\n",
       "  }\n",
       "  table, th, td {\n",
       "    border: 1px solid black;\n",
       "    border-collapse: collapse;\n",
       "  }\n",
       "  th, td {\n",
       "    padding: 5px;\n",
       "  }\n",
       "  th {\n",
       "    text-align: left;\n",
       "  }\n",
       "</style><div class='table-result-container'><table class='table-result'><thead style='background-color: white'><tr><th>account_id</th><th>amount</th><th>duration</th><th>payments</th><th>status</th><th>year</th><th>month</th><th>day</th><th>purpose</th></tr></thead><tbody><tr><td>A00003354</td><td>4980</td><td>12</td><td>415</td><td>A</td><td>2014</td><td>7</td><td>5</td><td>car</td></tr><tr><td>A00006061</td><td>5148</td><td>12</td><td>429</td><td>C</td><td>2018</td><td>5</td><td>28</td><td>car</td></tr><tr><td>A00008330</td><td>7656</td><td>24</td><td>319</td><td>A</td><td>2014</td><td>3</td><td>30</td><td>car</td></tr><tr><td>A00008268</td><td>8616</td><td>24</td><td>359</td><td>C</td><td>2017</td><td>9</td><td>26</td><td>car</td></tr><tr><td>A00006453</td><td>10944</td><td>36</td><td>304</td><td>C</td><td>2018</td><td>5</td><td>17</td><td>car</td></tr></tbody></table></div>"
      ]
     },
     "metadata": {
      "application/vnd.databricks.v1+output": {
       "addedWidgets": {},
       "aggData": [],
       "aggError": "",
       "aggOverflow": false,
       "aggSchema": [],
       "aggSeriesLimitReached": false,
       "aggType": "",
       "arguments": {},
       "columnCustomDisplayInfos": {},
       "data": [
        [
         "A00003354",
         "4980",
         "12",
         "415",
         "A",
         "2014",
         "7",
         "5",
         "car"
        ],
        [
         "A00006061",
         "5148",
         "12",
         "429",
         "C",
         "2018",
         "5",
         "28",
         "car"
        ],
        [
         "A00008330",
         "7656",
         "24",
         "319",
         "A",
         "2014",
         "3",
         "30",
         "car"
        ],
        [
         "A00008268",
         "8616",
         "24",
         "359",
         "C",
         "2017",
         "9",
         "26",
         "car"
        ],
        [
         "A00006453",
         "10944",
         "36",
         "304",
         "C",
         "2018",
         "5",
         "17",
         "car"
        ]
       ],
       "datasetInfos": [],
       "dbfsResultPath": null,
       "isJsonSchema": true,
       "metadata": {},
       "overflow": false,
       "plotOptions": {
        "customPlotOptions": {},
        "displayType": "table",
        "pivotAggregation": null,
        "pivotColumns": null,
        "xColumns": null,
        "yColumns": null
       },
       "removedWidgets": [],
       "schema": [
        {
         "metadata": "{}",
         "name": "account_id",
         "type": "\"string\""
        },
        {
         "metadata": "{}",
         "name": "amount",
         "type": "\"string\""
        },
        {
         "metadata": "{}",
         "name": "duration",
         "type": "\"string\""
        },
        {
         "metadata": "{}",
         "name": "payments",
         "type": "\"string\""
        },
        {
         "metadata": "{}",
         "name": "status",
         "type": "\"string\""
        },
        {
         "metadata": "{}",
         "name": "year",
         "type": "\"string\""
        },
        {
         "metadata": "{}",
         "name": "month",
         "type": "\"string\""
        },
        {
         "metadata": "{}",
         "name": "day",
         "type": "\"string\""
        },
        {
         "metadata": "{}",
         "name": "purpose",
         "type": "\"string\""
        }
       ],
       "type": "table"
      }
     },
     "output_type": "display_data"
    }
   ],
   "source": [
    "print(loans_df_2.columns)\n",
    "print(loans_df_2.dtypes)\n",
    "loans_df_2 = loans_df_2.drop(\"loan_id\",\"fulldate\",\"location\")\n",
    "display(loans_df_2.head(5))"
   ]
  },
  {
   "cell_type": "code",
   "execution_count": 0,
   "metadata": {
    "application/vnd.databricks.v1+cell": {
     "cellMetadata": {
      "byteLimit": 2048000,
      "rowLimit": 10000
     },
     "inputWidgets": {},
     "nuid": "f1ce662a-34bc-4028-8944-7b0483d37c36",
     "showTitle": false,
     "title": ""
    }
   },
   "outputs": [
    {
     "output_type": "stream",
     "name": "stdout",
     "output_type": "stream",
     "text": [
      "['order_id', 'account_id', 'bank_to', 'account_to', 'amount', 'k_symbol']\n[('order_id', 'int'), ('account_id', 'string'), ('bank_to', 'string'), ('account_to', 'int'), ('amount', 'decimal(10,2)'), ('k_symbol', 'string')]\n"
     ]
    },
    {
     "output_type": "display_data",
     "data": {
      "text/html": [
       "<style scoped>\n",
       "  .table-result-container {\n",
       "    max-height: 300px;\n",
       "    overflow: auto;\n",
       "  }\n",
       "  table, th, td {\n",
       "    border: 1px solid black;\n",
       "    border-collapse: collapse;\n",
       "  }\n",
       "  th, td {\n",
       "    padding: 5px;\n",
       "  }\n",
       "  th {\n",
       "    text-align: left;\n",
       "  }\n",
       "</style><div class='table-result-container'><table class='table-result'><thead style='background-color: white'><tr><th>order_id</th><th>account_id</th><th>bank_to</th><th>account_to</th><th>amount</th><th>k_symbol</th></tr></thead><tbody><tr><td>29401</td><td>A00000001</td><td>YZ</td><td>87144583</td><td>2452.000000000000000000</td><td>Household Payment</td></tr><tr><td>29402</td><td>A00000002</td><td>ST</td><td>89597016</td><td>3372.700000000000000000</td><td>Loan Payment</td></tr><tr><td>29403</td><td>A00000002</td><td>QR</td><td>13943797</td><td>7266.000000000000000000</td><td>Household Payment</td></tr><tr><td>29404</td><td>A00000003</td><td>WX</td><td>83084338</td><td>1135.000000000000000000</td><td>Household Payment</td></tr><tr><td>29405</td><td>A00000003</td><td>CD</td><td>24485939</td><td>327.000000000000000000</td><td> </td></tr></tbody></table></div>"
      ]
     },
     "metadata": {
      "application/vnd.databricks.v1+output": {
       "addedWidgets": {},
       "aggData": [],
       "aggError": "",
       "aggOverflow": false,
       "aggSchema": [],
       "aggSeriesLimitReached": false,
       "aggType": "",
       "arguments": {},
       "columnCustomDisplayInfos": {},
       "data": [
        [
         29401,
         "A00000001",
         "YZ",
         87144583,
         "2452.000000000000000000",
         "Household Payment"
        ],
        [
         29402,
         "A00000002",
         "ST",
         89597016,
         "3372.700000000000000000",
         "Loan Payment"
        ],
        [
         29403,
         "A00000002",
         "QR",
         13943797,
         "7266.000000000000000000",
         "Household Payment"
        ],
        [
         29404,
         "A00000003",
         "WX",
         83084338,
         "1135.000000000000000000",
         "Household Payment"
        ],
        [
         29405,
         "A00000003",
         "CD",
         24485939,
         "327.000000000000000000",
         " "
        ]
       ],
       "datasetInfos": [],
       "dbfsResultPath": null,
       "isJsonSchema": true,
       "metadata": {},
       "overflow": false,
       "plotOptions": {
        "customPlotOptions": {},
        "displayType": "table",
        "pivotAggregation": null,
        "pivotColumns": null,
        "xColumns": null,
        "yColumns": null
       },
       "removedWidgets": [],
       "schema": [
        {
         "metadata": "{}",
         "name": "order_id",
         "type": "\"long\""
        },
        {
         "metadata": "{}",
         "name": "account_id",
         "type": "\"string\""
        },
        {
         "metadata": "{}",
         "name": "bank_to",
         "type": "\"string\""
        },
        {
         "metadata": "{}",
         "name": "account_to",
         "type": "\"long\""
        },
        {
         "metadata": "{}",
         "name": "amount",
         "type": "\"decimal(38,18)\""
        },
        {
         "metadata": "{}",
         "name": "k_symbol",
         "type": "\"string\""
        }
       ],
       "type": "table"
      }
     },
     "output_type": "display_data"
    }
   ],
   "source": [
    "print(orders_df.columns)\n",
    "print(orders_df.dtypes)\n",
    "display(orders_df.head(5))"
   ]
  },
  {
   "cell_type": "code",
   "execution_count": 0,
   "metadata": {
    "application/vnd.databricks.v1+cell": {
     "cellMetadata": {
      "byteLimit": 2048000,
      "rowLimit": 10000
     },
     "inputWidgets": {},
     "nuid": "a712df7d-10ef-48d3-b28d-c96e8594054d",
     "showTitle": false,
     "title": ""
    }
   },
   "outputs": [
    {
     "output_type": "stream",
     "name": "stdout",
     "output_type": "stream",
     "text": [
      "['column_a', 'trans_id', 'account_id', 'type', 'operation', 'amount', 'balance', 'k_symbol', 'bank', 'account', 'year', 'month', 'day', 'date', 'fulltime']\n[('column_a', 'int'), ('trans_id', 'string'), ('account_id', 'string'), ('type', 'string'), ('operation', 'string'), ('amount', 'decimal(10,2)'), ('balance', 'decimal(10,2)'), ('k_symbol', 'string'), ('bank', 'string'), ('account', 'int'), ('year', 'int'), ('month', 'int'), ('day', 'int'), ('date', 'date'), ('fulltime', 'string')]\n"
     ]
    },
    {
     "output_type": "display_data",
     "data": {
      "text/html": [
       "<style scoped>\n",
       "  .table-result-container {\n",
       "    max-height: 300px;\n",
       "    overflow: auto;\n",
       "  }\n",
       "  table, th, td {\n",
       "    border: 1px solid black;\n",
       "    border-collapse: collapse;\n",
       "  }\n",
       "  th, td {\n",
       "    padding: 5px;\n",
       "  }\n",
       "  th {\n",
       "    text-align: left;\n",
       "  }\n",
       "</style><div class='table-result-container'><table class='table-result'><thead style='background-color: white'><tr><th>column_a</th><th>trans_id</th><th>account_id</th><th>type</th><th>operation</th><th>amount</th><th>balance</th><th>year</th><th>month</th><th>day</th><th>date</th><th>fulltime</th></tr></thead><tbody><tr><td>1</td><td>T00695247</td><td>A00002378</td><td>Credit</td><td>Credit in Cash</td><td>700.000000000000000000</td><td>700.000000000000000000</td><td>2013</td><td>1</td><td>1</td><td>2013-01-01</td><td>2013-01-01T11:02:40</td></tr><tr><td>2</td><td>T00171812</td><td>A00000576</td><td>Credit</td><td>Credit in Cash</td><td>900.000000000000000000</td><td>900.000000000000000000</td><td>2013</td><td>1</td><td>1</td><td>2013-01-01</td><td>2013-01-01T08:23:33</td></tr><tr><td>3</td><td>T00207264</td><td>A00000704</td><td>Credit</td><td>Credit in Cash</td><td>1000.000000000000000000</td><td>1000.000000000000000000</td><td>2013</td><td>1</td><td>1</td><td>2013-01-01</td><td>2013-01-01T15:19:21</td></tr><tr><td>4</td><td>T01117247</td><td>A00003818</td><td>Credit</td><td>Credit in Cash</td><td>600.000000000000000000</td><td>600.000000000000000000</td><td>2013</td><td>1</td><td>1</td><td>2013-01-01</td><td>2013-01-01T10:42:35</td></tr><tr><td>5</td><td>T00579373</td><td>A00001972</td><td>Credit</td><td>Credit in Cash</td><td>400.000000000000000000</td><td>400.000000000000000000</td><td>2013</td><td>1</td><td>2</td><td>2013-01-02</td><td>2013-01-02T11:39:25</td></tr></tbody></table></div>"
      ]
     },
     "metadata": {
      "application/vnd.databricks.v1+output": {
       "addedWidgets": {},
       "aggData": [],
       "aggError": "",
       "aggOverflow": false,
       "aggSchema": [],
       "aggSeriesLimitReached": false,
       "aggType": "",
       "arguments": {},
       "columnCustomDisplayInfos": {},
       "data": [
        [
         1,
         "T00695247",
         "A00002378",
         "Credit",
         "Credit in Cash",
         "700.000000000000000000",
         "700.000000000000000000",
         2013,
         1,
         1,
         "2013-01-01",
         "2013-01-01T11:02:40"
        ],
        [
         2,
         "T00171812",
         "A00000576",
         "Credit",
         "Credit in Cash",
         "900.000000000000000000",
         "900.000000000000000000",
         2013,
         1,
         1,
         "2013-01-01",
         "2013-01-01T08:23:33"
        ],
        [
         3,
         "T00207264",
         "A00000704",
         "Credit",
         "Credit in Cash",
         "1000.000000000000000000",
         "1000.000000000000000000",
         2013,
         1,
         1,
         "2013-01-01",
         "2013-01-01T15:19:21"
        ],
        [
         4,
         "T01117247",
         "A00003818",
         "Credit",
         "Credit in Cash",
         "600.000000000000000000",
         "600.000000000000000000",
         2013,
         1,
         1,
         "2013-01-01",
         "2013-01-01T10:42:35"
        ],
        [
         5,
         "T00579373",
         "A00001972",
         "Credit",
         "Credit in Cash",
         "400.000000000000000000",
         "400.000000000000000000",
         2013,
         1,
         2,
         "2013-01-02",
         "2013-01-02T11:39:25"
        ]
       ],
       "datasetInfos": [],
       "dbfsResultPath": null,
       "isJsonSchema": true,
       "metadata": {},
       "overflow": false,
       "plotOptions": {
        "customPlotOptions": {},
        "displayType": "table",
        "pivotAggregation": null,
        "pivotColumns": null,
        "xColumns": null,
        "yColumns": null
       },
       "removedWidgets": [],
       "schema": [
        {
         "metadata": "{}",
         "name": "column_a",
         "type": "\"long\""
        },
        {
         "metadata": "{}",
         "name": "trans_id",
         "type": "\"string\""
        },
        {
         "metadata": "{}",
         "name": "account_id",
         "type": "\"string\""
        },
        {
         "metadata": "{}",
         "name": "type",
         "type": "\"string\""
        },
        {
         "metadata": "{}",
         "name": "operation",
         "type": "\"string\""
        },
        {
         "metadata": "{}",
         "name": "amount",
         "type": "\"decimal(38,18)\""
        },
        {
         "metadata": "{}",
         "name": "balance",
         "type": "\"decimal(38,18)\""
        },
        {
         "metadata": "{}",
         "name": "year",
         "type": "\"long\""
        },
        {
         "metadata": "{}",
         "name": "month",
         "type": "\"long\""
        },
        {
         "metadata": "{}",
         "name": "day",
         "type": "\"long\""
        },
        {
         "metadata": "{}",
         "name": "date",
         "type": "\"date\""
        },
        {
         "metadata": "{}",
         "name": "fulltime",
         "type": "\"string\""
        }
       ],
       "type": "table"
      }
     },
     "output_type": "display_data"
    }
   ],
   "source": [
    "print(transactions_df.columns)\n",
    "print(transactions_df.dtypes)\n",
    "transactions_df = transactions_df.drop(\"fulldate\",\"fulldatewithtime\",\"k_symbol\",\"bank\",\"account\")\n",
    "display(transactions_df.head(5))"
   ]
  },
  {
   "cell_type": "code",
   "execution_count": 0,
   "metadata": {
    "application/vnd.databricks.v1+cell": {
     "cellMetadata": {
      "byteLimit": 2048000,
      "rowLimit": 10000
     },
     "inputWidgets": {},
     "nuid": "53ffe8f5-3613-4ec3-b2cd-7a1b92287062",
     "showTitle": false,
     "title": ""
    }
   },
   "outputs": [],
   "source": [
    "# create sql tables to join in sql\n",
    "\n",
    "districts_df.createOrReplaceTempView(\"districts\")\n",
    "clients_df.createOrReplaceTempView(\"clients\")\n",
    "accounts_df.createOrReplaceTempView(\"accounts\")\n",
    "dispositions_df.createOrReplaceTempView(\"dispositions\")\n",
    "transactions_df.createOrReplaceTempView(\"transactions\")\n",
    "loans_df_2.createOrReplaceTempView(\"loans\")\n",
    "orders_df.createOrReplaceTempView(\"orders\")"
   ]
  },
  {
   "cell_type": "markdown",
   "metadata": {
    "application/vnd.databricks.v1+cell": {
     "cellMetadata": {},
     "inputWidgets": {},
     "nuid": "8e231bd6-9541-4ef6-9bb8-8123500d47a5",
     "showTitle": false,
     "title": ""
    }
   },
   "source": [
    "1. Gender Ratio of the Clients"
   ]
  },
  {
   "cell_type": "code",
   "execution_count": 0,
   "metadata": {
    "application/vnd.databricks.v1+cell": {
     "cellMetadata": {
      "byteLimit": 2048000,
      "rowLimit": 10000
     },
     "inputWidgets": {},
     "nuid": "ce8a7041-39b7-4c27-b4fd-60a84399d696",
     "showTitle": false,
     "title": ""
    }
   },
   "outputs": [
    {
     "output_type": "stream",
     "name": "stdout",
     "output_type": "stream",
     "text": [
      "+----------+------------+------------------+-------------------+\n|male_total|female_total|        male_ratio|       female_ratio|\n+----------+------------+------------------+-------------------+\n|      2724|        2645|0.5073570497299311|0.49264295027006894|\n+----------+------------+------------------+-------------------+\n\n"
     ]
    }
   ],
   "source": [
    "gender_ratio = ss.sql(\"\"\"\n",
    "    SELECT \n",
    "    COUNT(IF(sex = 'Male', 1, NULL)) AS male_total,\n",
    "    COUNT(IF(sex = 'Female', 1, NULL)) AS female_total,\n",
    "    COUNT(IF(sex = 'Male', 1, NULL))/COUNT(sex) as male_ratio,\n",
    "    COUNT(IF(sex = 'Female', 1, NULL))/COUNT(sex) as female_ratio\n",
    "    FROM clients AS c\n",
    "\"\"\")\n",
    "gender_ratio.show()"
   ]
  },
  {
   "cell_type": "markdown",
   "metadata": {
    "application/vnd.databricks.v1+cell": {
     "cellMetadata": {},
     "inputWidgets": {},
     "nuid": "1528aad3-ca1c-41dc-ba4e-dc3b62b4559f",
     "showTitle": false,
     "title": ""
    }
   },
   "source": [
    "There is a very minimal difference between the number of male and female clients who used the retail banking service. "
   ]
  },
  {
   "cell_type": "markdown",
   "metadata": {
    "application/vnd.databricks.v1+cell": {
     "cellMetadata": {},
     "inputWidgets": {},
     "nuid": "39e17875-49a1-42db-9880-e5bf3f88306e",
     "showTitle": false,
     "title": ""
    }
   },
   "source": [
    "2. Age Distribution of the Clients"
   ]
  },
  {
   "cell_type": "code",
   "execution_count": 0,
   "metadata": {
    "application/vnd.databricks.v1+cell": {
     "cellMetadata": {
      "byteLimit": 2048000,
      "rowLimit": 10000
     },
     "inputWidgets": {},
     "nuid": "47734968-c6f4-45cf-898a-6195aac3e68b",
     "showTitle": false,
     "title": ""
    }
   },
   "outputs": [
    {
     "output_type": "stream",
     "name": "stdout",
     "output_type": "stream",
     "text": [
      "+-------+------------------+\n|summary|               age|\n+-------+------------------+\n|  count|                77|\n|   mean|              50.0|\n| stddev|22.371857321197094|\n|    min|                12|\n|    max|                88|\n+-------+------------------+\n\n"
     ]
    }
   ],
   "source": [
    "age_dist = ss.sql(\"\"\"\n",
    "    SELECT age\n",
    "    FROM clients AS c\n",
    "    JOIN\n",
    "        dispositions AS d ON c.client_id = d.client_id\n",
    "    JOIN\n",
    "        accounts AS a ON d.account_id = a.account_id\n",
    "    JOIN\n",
    "        districts AS ds ON c.district_id = ds.district_id\n",
    "    GROUP BY\n",
    "        age\n",
    "    ORDER BY\n",
    "        age\n",
    "\"\"\")\n",
    "\n",
    "age_dist.describe().show()"
   ]
  },
  {
   "cell_type": "markdown",
   "metadata": {
    "application/vnd.databricks.v1+cell": {
     "cellMetadata": {},
     "inputWidgets": {},
     "nuid": "8476fadc-a4c0-4302-b9e9-c9810014aca3",
     "showTitle": false,
     "title": ""
    }
   },
   "source": [
    "As the summary above shows, the youngest client is 12 years old and the oldest client is 88. The mean is about 50 with standard deviation being around 22. "
   ]
  },
  {
   "cell_type": "markdown",
   "metadata": {
    "application/vnd.databricks.v1+cell": {
     "cellMetadata": {},
     "inputWidgets": {},
     "nuid": "8250ad2b-327c-4755-a20c-fc805de54880",
     "showTitle": false,
     "title": ""
    }
   },
   "source": [
    "3. Frequency of Money Distribution"
   ]
  },
  {
   "cell_type": "code",
   "execution_count": 0,
   "metadata": {
    "application/vnd.databricks.v1+cell": {
     "cellMetadata": {
      "byteLimit": 2048000,
      "rowLimit": 10000
     },
     "inputWidgets": {},
     "nuid": "eba7e2df-2d75-4097-97d0-cb3cf1d23874",
     "showTitle": false,
     "title": ""
    }
   },
   "outputs": [
    {
     "output_type": "stream",
     "name": "stdout",
     "output_type": "stream",
     "text": [
      "+-------------------------------+-----+-----+\n|frequency_of_money_distribution|count|ratio|\n+-------------------------------+-----+-----+\n|           Issuance After Tr...|   93|0.021|\n|               Monthly Issuance| 4167|0.926|\n|                Weekly Issuance|  240|0.053|\n+-------------------------------+-----+-----+\n\n"
     ]
    }
   ],
   "source": [
    "frequency_of_dist = ss.sql(\"\"\"\n",
    "    SELECT frequency AS frequency_of_money_distribution, COUNT(*) AS count, ROUND(COUNT(*)/(SELECT COUNT(frequency) FROM accounts),3) AS ratio\n",
    "    FROM accounts AS a\n",
    "    GROUP BY frequency          \n",
    "\"\"\")\n",
    "\n",
    "frequency_of_dist.show()"
   ]
  },
  {
   "cell_type": "markdown",
   "metadata": {
    "application/vnd.databricks.v1+cell": {
     "cellMetadata": {},
     "inputWidgets": {},
     "nuid": "d29ff78c-f293-4ff6-af1b-921dbed1d753",
     "showTitle": false,
     "title": ""
    }
   },
   "source": [
    "The most common way of distributing the money was monthly at about 92.6 percent, followed by weekly issuance at about 5 percent, and issuance after transaction being the least common with about 2 percent of all distributions. "
   ]
  },
  {
   "cell_type": "markdown",
   "metadata": {
    "application/vnd.databricks.v1+cell": {
     "cellMetadata": {},
     "inputWidgets": {},
     "nuid": "15899f25-8980-49c1-b4dd-c39602c8721a",
     "showTitle": false,
     "title": ""
    }
   },
   "source": [
    "4. Transaction Distributions by Age Groups"
   ]
  },
  {
   "cell_type": "code",
   "execution_count": 0,
   "metadata": {
    "application/vnd.databricks.v1+cell": {
     "cellMetadata": {
      "byteLimit": 2048000,
      "rowLimit": 10000
     },
     "inputWidgets": {},
     "nuid": "c8763c18-f5b1-46cb-a4da-190620d1923a",
     "showTitle": false,
     "title": ""
    }
   },
   "outputs": [
    {
     "output_type": "stream",
     "name": "stdout",
     "output_type": "stream",
     "text": [
      "+---+------------+\n|age|total_amount|\n+---+------------+\n| 59|149709517.00|\n| 37|143126752.20|\n| 20|127495794.00|\n| 54|125726095.80|\n| 55|122612496.80|\n| 35|122468711.10|\n| 50|117888928.40|\n| 22|115637263.80|\n| 31|113994009.20|\n| 32|112665294.20|\n| 41|112238803.00|\n| 46| 99924934.70|\n| 56| 95639474.60|\n| 42| 95016591.40|\n| 28| 94625096.40|\n| 26| 93582912.90|\n| 23| 93515122.10|\n| 60| 93048643.50|\n| 29| 90001432.00|\n| 34| 87393780.30|\n+---+------------+\nonly showing top 20 rows\n\n"
     ]
    }
   ],
   "source": [
    "transaction_distribution_by_age = ss.sql(\"\"\"\n",
    "    SELECT age,SUM(t.amount) AS total_amount\n",
    "    FROM clients AS c\n",
    "JOIN dispositions AS d ON c.client_id = d.client_id\n",
    "    JOIN accounts AS a ON d.account_id = a.account_id\n",
    "    JOIN loans AS l ON l.account_id = a.account_id\n",
    "    JOIN transactions AS t ON t.account_id = a.account_id\n",
    "    JOIN orders AS o ON o.account_id = a.account_id\n",
    "    GROUP BY age\n",
    "    ORDER BY total_amount DESC\n",
    "        \n",
    "\"\"\")\n",
    "transaction_distribution_by_age.show(20)"
   ]
  },
  {
   "cell_type": "code",
   "execution_count": 0,
   "metadata": {
    "application/vnd.databricks.v1+cell": {
     "cellMetadata": {
      "byteLimit": 2048000,
      "rowLimit": 10000
     },
     "inputWidgets": {},
     "nuid": "61bd9680-7e83-485e-8e4c-c3b14ea47213",
     "showTitle": false,
     "title": ""
    }
   },
   "outputs": [
    {
     "output_type": "stream",
     "name": "stdout",
     "output_type": "stream",
     "text": [
      "+---+--------------------+\n|age|        average_loan|\n+---+--------------------+\n| 17|           1.98936E7|\n| 18|            1.7136E7|\n| 21| 1.252619667489712E7|\n| 25|1.1231472291778281E7|\n| 23|   9725971.915616848|\n| 53|   9335872.364843924|\n| 32|   8219928.672209218|\n| 34|   7805926.098892572|\n| 62|  7565623.8224079395|\n| 49|   7405227.522504892|\n| 56|   7315816.454513768|\n| 50|   7304789.159218061|\n| 19|   7146199.923554706|\n| 44|   7105612.480040552|\n| 52|   7037789.697998787|\n| 63|  6937772.2837798055|\n| 38|   6911524.707619298|\n| 33|   6867967.317482517|\n| 31|   6851517.165564882|\n| 30|  6632072.9482163405|\n+---+--------------------+\nonly showing top 20 rows\n\n"
     ]
    }
   ],
   "source": [
    "loan_distribution_by_age = ss.sql(\"\"\"\n",
    "    SELECT age, AVG(l.amount * l.duration) AS average_loan \n",
    "    FROM clients AS c\n",
    "JOIN dispositions AS d ON c.client_id = d.client_id\n",
    "    JOIN accounts AS a ON d.account_id = a.account_id\n",
    "    JOIN loans AS l ON l.account_id = a.account_id\n",
    "    JOIN transactions AS t ON t.account_id = a.account_id\n",
    "    JOIN orders AS o ON o.account_id = a.account_id\n",
    "    GROUP BY age\n",
    "    ORDER BY average_loan DESC\n",
    "        \n",
    "\"\"\")\n",
    "loan_distribution_by_age.show(20)"
   ]
  },
  {
   "cell_type": "markdown",
   "metadata": {
    "application/vnd.databricks.v1+cell": {
     "cellMetadata": {},
     "inputWidgets": {},
     "nuid": "f586809f-a106-4ede-8a3e-d29c7849c878",
     "showTitle": false,
     "title": ""
    }
   },
   "source": [
    "Above are two Spark dataframes looking into some distributions by different age groups. \n",
    "From the first table, we can see that people in the later stages of their lives such as businessmen or families from age ranges between 30-50 tend to transact the most. \n",
    "Looking at the second table, we can see that the highest average loan was taken out the most by people in college or are starting their careers off. Then, the trend is followed by older age groups from 30-60 with variance. "
   ]
  },
  {
   "cell_type": "markdown",
   "metadata": {
    "application/vnd.databricks.v1+cell": {
     "cellMetadata": {
      "byteLimit": 2048000,
      "rowLimit": 10000
     },
     "inputWidgets": {},
     "nuid": "95dbe291-c8e1-4fd2-8687-2452185ba9c6",
     "showTitle": false,
     "title": ""
    }
   },
   "source": [
    "Looking at an important KPI(Key Performance Indicator):CLV"
   ]
  },
  {
   "cell_type": "code",
   "execution_count": 0,
   "metadata": {
    "application/vnd.databricks.v1+cell": {
     "cellMetadata": {
      "byteLimit": 2048000,
      "rowLimit": 10000
     },
     "inputWidgets": {},
     "nuid": "e6610d10-0c8e-43b0-91da-0723071ec62c",
     "showTitle": false,
     "title": ""
    }
   },
   "outputs": [
    {
     "output_type": "stream",
     "name": "stdout",
     "output_type": "stream",
     "text": [
      "['loan_id', 'funded_amount', 'funded_date', 'duration_years', 'duration_months', '10_yr_treasury_index_date_funded', 'interest_rate_percent', 'interest_rate', 'payments', 'total_past_payments', 'loan_balance', 'property_value', 'purpose', 'firstname', 'middlename', 'lastname', 'social', 'phone', 'title', 'employment_length', 'building_class_category', 'tax_class_at_present', 'building_class_at_present', 'address_1', 'address_2', 'zip_code', 'city', 'state', 'total_units', 'land_square_feet', 'gross_square_feet', 'tax_class_at_time_of_sale']\n[('loan_id', 'string'), ('funded_amount', 'decimal(10,2)'), ('funded_date', 'date'), ('duration_years', 'int'), ('duration_months', 'int'), ('10_yr_treasury_index_date_funded', 'decimal(10,2)'), ('interest_rate_percent', 'decimal(5,2)'), ('interest_rate', 'decimal(10,2)'), ('payments', 'decimal(10,2)'), ('total_past_payments', 'int'), ('loan_balance', 'decimal(10,2)'), ('property_value', 'decimal(10,2)'), ('purpose', 'string'), ('firstname', 'string'), ('middlename', 'string'), ('lastname', 'string'), ('social', 'string'), ('phone', 'string'), ('title', 'string'), ('employment_length', 'int'), ('building_class_category', 'string'), ('tax_class_at_present', 'string'), ('building_class_at_present', 'string'), ('address_1', 'string'), ('address_2', 'string'), ('zip_code', 'int'), ('city', 'string'), ('state', 'string'), ('total_units', 'int'), ('land_square_feet', 'int'), ('gross_square_feet', 'int'), ('tax_class_at_time_of_sale', 'int')]\n+---------+-------------+-----------+--------------+---------------+--------------------------------+---------------------+-------------+--------+-------------------+------------+--------------+-------+---------+----------+--------+-----------+------------+--------------------+-----------------+-----------------------+--------------------+-------------------------+--------------------+---------+--------+-------------+-----+-----------+----------------+-----------------+-------------------------+\n|  loan_id|funded_amount|funded_date|duration_years|duration_months|10_yr_treasury_index_date_funded|interest_rate_percent|interest_rate|payments|total_past_payments|loan_balance|property_value|purpose|firstname|middlename|lastname|     social|       phone|               title|employment_length|building_class_category|tax_class_at_present|building_class_at_present|           address_1|address_2|zip_code|         city|state|total_units|land_square_feet|gross_square_feet|tax_class_at_time_of_sale|\n+---------+-------------+-----------+--------------+---------------+--------------------------------+---------------------+-------------+--------+-------------------+------------+--------------+-------+---------+----------+--------+-----------+------------+--------------------+-----------------+-----------------------+--------------------+-------------------------+--------------------+---------+--------+-------------+-----+-----------+----------------+-----------------+-------------------------+\n|LL0000076|    790000.00| 2012-04-27|            20|            240|                            1.96|                 3.36|         0.03| 4524.65|                 92|   373732.18|     930250.00|   boat|    Devin|      Knox| Walters|972-69-4236|542-843-5089|Vice President Gl...|                6|   15 CONDOS - 2-10 ...|                  2C|                       R1|171 SOUTH 9TH   S...|        9|   10001|New York City|   NY|          1|               0|                0|                        2|\n|LL0000151|   1720000.00| 2014-10-14|            15|            180|                            2.21|                 3.51|         0.04|12302.74|                 62|   957230.24|    1995250.00|   boat|    Rhett|     Felix|Calderon|577-13-5838|625-614-0118|Senior program ma...|               10|   04 TAX CLASS 1 CO...|                  1A|                       R3|      1242 E 80TH ST|       19|   10104|New York City|   NY|          1|               0|                0|                        1|\n|LL0000161|   3720000.00| 2014-06-07|            15|            180|                            2.60|                 3.90|         0.04|27322.92|                 66|  1916687.35|    3881700.00|   boat|      Jax|      Sean|Richards|263-55-1721|255-592-5290|                null|                1|   04 TAX CLASS 1 CO...|                  1A|                       R3|    1884 53RD STREET|        2|   10029|New York City|   NY|          1|               0|                0|                        1|\n|LL0000175|   1079000.00| 2012-02-23|            20|            240|                            1.99|                 3.39|         0.03| 6196.40|                 94|   496538.75|    1402450.00|   boat| Nicholas|    Jeremy|  Priest|512-60-5121|757-337-7073|       Vice presiden|               17|   15 CONDOS - 2-10 ...|                  2C|                       R1|     79 EAGLE STREET|        6|   10010|New York City|   NY|          1|               0|                0|                        2|\n|LL0000178|   2028000.00| 2016-04-01|            20|            240|                            1.79|                 3.19|         0.03|11439.05|                 45|  1513242.57|    2216500.00|   boat|    Riley|    Matteo| Hoffman|271-64-4634|478-573-2416|      Bank examiner |                5|   49 CONDO WAREHOUS...|                   4|                       RW|34 NORTH 7TH   ST...|        5|   10172|New York City|   NY|          1|               0|                0|                        4|\n+---------+-------------+-----------+--------------+---------------+--------------------------------+---------------------+-------------+--------+-------------------+------------+--------------+-------+---------+----------+--------+-----------+------------+--------------------+-----------------+-----------------------+--------------------+-------------------------+--------------------+---------+--------+-------------+-----+-----------+----------------+-----------------+-------------------------+\nonly showing top 5 rows\n\n"
     ]
    }
   ],
   "source": [
    "print(luxury_loan_portfolio_df.columns)\n",
    "print(luxury_loan_portfolio_df.dtypes)\n",
    "display(luxury_loan_portfolio_df.show(5))"
   ]
  },
  {
   "cell_type": "code",
   "execution_count": 0,
   "metadata": {
    "application/vnd.databricks.v1+cell": {
     "cellMetadata": {
      "byteLimit": 2048000,
      "rowLimit": 10000
     },
     "inputWidgets": {},
     "nuid": "68b4e187-287b-4e18-84f5-60c9dcb6613a",
     "showTitle": false,
     "title": ""
    }
   },
   "outputs": [
    {
     "output_type": "display_data",
     "data": {
      "text/html": [
       "<style scoped>\n",
       "  .table-result-container {\n",
       "    max-height: 300px;\n",
       "    overflow: auto;\n",
       "  }\n",
       "  table, th, td {\n",
       "    border: 1px solid black;\n",
       "    border-collapse: collapse;\n",
       "  }\n",
       "  th, td {\n",
       "    padding: 5px;\n",
       "  }\n",
       "  th {\n",
       "    text-align: left;\n",
       "  }\n",
       "</style><div class='table-result-container'><table class='table-result'><thead style='background-color: white'><tr><th>lastname</th><th>avg_funded_amount</th><th>avg_interest_rate</th><th>avg_duration_years</th><th>estimated_profit</th></tr></thead><tbody><tr><td>Worthington</td><td>6138000.000000000000000000</td><td>0.040000000000000000</td><td>60.0</td><td>1.47312E7</td></tr><tr><td>Cunningham</td><td>5544000.000000000000000000</td><td>0.040000000000000000</td><td>60.0</td><td>1.33056E7</td></tr><tr><td>Drake</td><td>5544000.000000000000000000</td><td>0.040000000000000000</td><td>60.0</td><td>1.33056E7</td></tr><tr><td>Whitmore</td><td>5544000.000000000000000000</td><td>0.040000000000000000</td><td>60.0</td><td>1.33056E7</td></tr><tr><td>Corey</td><td>5511000.000000000000000000</td><td>0.040000000000000000</td><td>60.0</td><td>1.32264E7</td></tr><tr><td>Willoughby</td><td>4344000.000000000000000000</td><td>0.050000000000000000</td><td>60.0</td><td>1.3032E7</td></tr><tr><td>Parham</td><td>5346000.000000000000000000</td><td>0.040000000000000000</td><td>60.0</td><td>1.28304E7</td></tr><tr><td>James</td><td>4224000.000000000000000000</td><td>0.050000000000000000</td><td>60.0</td><td>1.2672E7</td></tr><tr><td>Eller</td><td>5181000.000000000000000000</td><td>0.040000000000000000</td><td>60.0</td><td>1.24344E7</td></tr><tr><td>Wall</td><td>5824500.000000000000000000</td><td>0.035000000000000000</td><td>60.0</td><td>1.223145E7</td></tr><tr><td>Thurston</td><td>5082000.000000000000000000</td><td>0.040000000000000000</td><td>60.0</td><td>1.21968E7</td></tr><tr><td>Mccloud</td><td>3894000.000000000000000000</td><td>0.050000000000000000</td><td>60.0</td><td>1.1682E7</td></tr><tr><td>Bailey</td><td>4851000.000000000000000000</td><td>0.040000000000000000</td><td>60.0</td><td>1.16424E7</td></tr><tr><td>Mitchell</td><td>3696000.000000000000000000</td><td>0.050000000000000000</td><td>60.0</td><td>1.1088E7</td></tr><tr><td>Meyer</td><td>4035500.000000000000000000</td><td>0.045000000000000000</td><td>60.0</td><td>1.089585E7</td></tr><tr><td>Cross</td><td>4536000.000000000000000000</td><td>0.040000000000000000</td><td>60.0</td><td>1.08864E7</td></tr><tr><td>Morrison</td><td>4488000.000000000000000000</td><td>0.040000000000000000</td><td>60.0</td><td>1.07712E7</td></tr><tr><td>Carbajal</td><td>4464000.000000000000000000</td><td>0.040000000000000000</td><td>60.0</td><td>1.07136E7</td></tr><tr><td>Mckenzie</td><td>4464000.000000000000000000</td><td>0.040000000000000000</td><td>60.0</td><td>1.07136E7</td></tr><tr><td>Lombardo</td><td>5940000.000000000000000000</td><td>0.030000000000000000</td><td>60.0</td><td>1.0692E7</td></tr></tbody></table></div>"
      ]
     },
     "metadata": {
      "application/vnd.databricks.v1+output": {
       "addedWidgets": {},
       "aggData": [],
       "aggError": "",
       "aggOverflow": false,
       "aggSchema": [],
       "aggSeriesLimitReached": false,
       "aggType": "",
       "arguments": {},
       "columnCustomDisplayInfos": {},
       "data": [
        [
         "Worthington",
         "6138000.000000000000000000",
         "0.040000000000000000",
         60.0,
         1.47312E7
        ],
        [
         "Cunningham",
         "5544000.000000000000000000",
         "0.040000000000000000",
         60.0,
         1.33056E7
        ],
        [
         "Drake",
         "5544000.000000000000000000",
         "0.040000000000000000",
         60.0,
         1.33056E7
        ],
        [
         "Whitmore",
         "5544000.000000000000000000",
         "0.040000000000000000",
         60.0,
         1.33056E7
        ],
        [
         "Corey",
         "5511000.000000000000000000",
         "0.040000000000000000",
         60.0,
         1.32264E7
        ],
        [
         "Willoughby",
         "4344000.000000000000000000",
         "0.050000000000000000",
         60.0,
         1.3032E7
        ],
        [
         "Parham",
         "5346000.000000000000000000",
         "0.040000000000000000",
         60.0,
         1.28304E7
        ],
        [
         "James",
         "4224000.000000000000000000",
         "0.050000000000000000",
         60.0,
         1.2672E7
        ],
        [
         "Eller",
         "5181000.000000000000000000",
         "0.040000000000000000",
         60.0,
         1.24344E7
        ],
        [
         "Wall",
         "5824500.000000000000000000",
         "0.035000000000000000",
         60.0,
         1.223145E7
        ],
        [
         "Thurston",
         "5082000.000000000000000000",
         "0.040000000000000000",
         60.0,
         1.21968E7
        ],
        [
         "Mccloud",
         "3894000.000000000000000000",
         "0.050000000000000000",
         60.0,
         1.1682E7
        ],
        [
         "Bailey",
         "4851000.000000000000000000",
         "0.040000000000000000",
         60.0,
         1.16424E7
        ],
        [
         "Mitchell",
         "3696000.000000000000000000",
         "0.050000000000000000",
         60.0,
         1.1088E7
        ],
        [
         "Meyer",
         "4035500.000000000000000000",
         "0.045000000000000000",
         60.0,
         1.089585E7
        ],
        [
         "Cross",
         "4536000.000000000000000000",
         "0.040000000000000000",
         60.0,
         1.08864E7
        ],
        [
         "Morrison",
         "4488000.000000000000000000",
         "0.040000000000000000",
         60.0,
         1.07712E7
        ],
        [
         "Carbajal",
         "4464000.000000000000000000",
         "0.040000000000000000",
         60.0,
         1.07136E7
        ],
        [
         "Mckenzie",
         "4464000.000000000000000000",
         "0.040000000000000000",
         60.0,
         1.07136E7
        ],
        [
         "Lombardo",
         "5940000.000000000000000000",
         "0.030000000000000000",
         60.0,
         1.0692E7
        ]
       ],
       "datasetInfos": [],
       "dbfsResultPath": null,
       "isJsonSchema": true,
       "metadata": {},
       "overflow": false,
       "plotOptions": {
        "customPlotOptions": {},
        "displayType": "table",
        "pivotAggregation": null,
        "pivotColumns": null,
        "xColumns": null,
        "yColumns": null
       },
       "removedWidgets": [],
       "schema": [
        {
         "metadata": "{}",
         "name": "lastname",
         "type": "\"string\""
        },
        {
         "metadata": "{}",
         "name": "avg_funded_amount",
         "type": "\"decimal(38,18)\""
        },
        {
         "metadata": "{}",
         "name": "avg_interest_rate",
         "type": "\"decimal(38,18)\""
        },
        {
         "metadata": "{}",
         "name": "avg_duration_years",
         "type": "\"double\""
        },
        {
         "metadata": "{}",
         "name": "estimated_profit",
         "type": "\"double\""
        }
       ],
       "type": "table"
      }
     },
     "output_type": "display_data"
    },
    {
     "output_type": "stream",
     "name": "stdout",
     "output_type": "stream",
     "text": [
      "Average CLV: $3592505.80\n"
     ]
    }
   ],
   "source": [
    "#interest rate is not provided for the loans_df_2 dataframe unfortunately. Therefore, there is a limiation on finding CLV from that table. \n",
    "clv_df = luxury_loan_portfolio_df.groupBy(\"lastname\").agg(avg(\"funded_amount\").alias(\"avg_funded_amount\"),avg(\"interest_rate\").alias(\"avg_interest_rate\"),\n",
    "    (avg(\"duration_years\") + (avg(\"duration_months\") / 12)).alias(\"avg_duration_years\"))\n",
    "clv_df = clv_df.withColumn(\"estimated_profit\", col(\"avg_funded_amount\") * col(\"avg_interest_rate\") * col(\"avg_duration_years\"))\n",
    "\n",
    "# average for all customers \n",
    "average_clv = clv_df.agg(avg(\"estimated_profit\")).first()[0]\n",
    "display(clv_df.orderBy([\"estimated_profit\",\"avg_funded_amount\"],ascending = False).head(20))\n",
    "print(f\"Average CLV: ${average_clv:.2f}\")\n"
   ]
  },
  {
   "cell_type": "code",
   "execution_count": 0,
   "metadata": {
    "application/vnd.databricks.v1+cell": {
     "cellMetadata": {
      "byteLimit": 2048000,
      "rowLimit": 10000
     },
     "inputWidgets": {},
     "nuid": "2047e378-5a97-458f-b3d3-450984188758",
     "showTitle": false,
     "title": ""
    }
   },
   "outputs": [
    {
     "output_type": "display_data",
     "data": {
      "text/html": [
       "<style scoped>\n",
       "  .table-result-container {\n",
       "    max-height: 300px;\n",
       "    overflow: auto;\n",
       "  }\n",
       "  table, th, td {\n",
       "    border: 1px solid black;\n",
       "    border-collapse: collapse;\n",
       "  }\n",
       "  th, td {\n",
       "    padding: 5px;\n",
       "  }\n",
       "  th {\n",
       "    text-align: left;\n",
       "  }\n",
       "</style><div class='table-result-container'><table class='table-result'><thead style='background-color: white'><tr><th>loan_id</th><th>funded_amount</th><th>funded_date</th><th>duration_years</th><th>duration_months</th><th>10_yr_treasury_index_date_funded</th><th>interest_rate_percent</th><th>interest_rate</th><th>payments</th><th>total_past_payments</th><th>loan_balance</th><th>property_value</th><th>purpose</th><th>firstname</th><th>middlename</th><th>lastname</th><th>social</th><th>phone</th><th>title</th><th>employment_length</th><th>building_class_category</th><th>tax_class_at_present</th><th>building_class_at_present</th><th>address_1</th><th>address_2</th><th>zip_code</th><th>city</th><th>state</th><th>total_units</th><th>land_square_feet</th><th>gross_square_feet</th><th>tax_class_at_time_of_sale</th></tr></thead><tbody><tr><td>LL0000064</td><td>6138000.00</td><td>2013-09-25</td><td>30</td><td>360</td><td>2.63</td><td>4.22</td><td>0.04</td><td>30101.92</td><td>75</td><td>3880356.26</td><td>6432450.00</td><td>investment property</td><td>Damian</td><td>Andres</td><td>Worthington</td><td>452-66-1934</td><td>776-744-6579</td><td>executive vice prsident</td><td>12</td><td>07 RENTALS - WALKUP APARTMENTS             </td><td>2</td><td>C1</td><td>323 43RD   STREET</td><td>24</td><td>10156</td><td>New York City</td><td>NY</td><td>24</td><td>6261</td><td>21000</td><td>2</td></tr><tr><td>LL0001678</td><td>6171000.00</td><td>2015-05-21</td><td>30</td><td>360</td><td>2.19</td><td>3.78</td><td>0.04</td><td>28698.05</td><td>55</td><td>4592607.25</td><td>6255300.00</td><td>commerical property</td><td>Aliyah</td><td>Presley</td><td>Meyer</td><td>407-75-3282</td><td>851-266-8749</td><td>FINANCIAL ADVISOR</td><td>10</td><td>13 CONDOS - ELEVATOR APARTMENTS            </td><td>2</td><td>R4</td><td>25 MERCER STREET</td><td>5</td><td>10106</td><td>New York City</td><td>NY</td><td>1</td><td>null</td><td>null</td><td>2</td></tr><tr><td>LL0000467</td><td>6171000.00</td><td>2015-11-19</td><td>30</td><td>360</td><td>2.24</td><td>3.83</td><td>0.04</td><td>28873.80</td><td>49</td><td>4756183.90</td><td>6246200.00</td><td>home</td><td>Titus</td><td>Fernando</td><td>Wall</td><td>962-50-7580</td><td>249-580-6538</td><td>Managing Director</td><td>7</td><td>13 CONDOS - ELEVATOR APARTMENTS            </td><td>2</td><td>R4</td><td>145 WEST 11TH</td><td>5</td><td>10151</td><td>New York City</td><td>NY</td><td>1</td><td>null</td><td>null</td><td>2</td></tr><tr><td>LL0000080</td><td>5940000.00</td><td>2012-09-14</td><td>30</td><td>360</td><td>1.88</td><td>3.47</td><td>0.03</td><td>26587.12</td><td>87</td><td>3626920.62</td><td>6133250.00</td><td>commerical property</td><td>Christian</td><td>Isaac</td><td>Lombardo</td><td>277-63-5491</td><td>476-925-9180</td><td>Claims Consultant</td><td>7</td><td>07 RENTALS - WALKUP APARTMENTS             </td><td>2</td><td>C1</td><td>427 DEAN STREET</td><td>16</td><td>10119</td><td>New York City</td><td>NY</td><td>17</td><td>4808</td><td>16200</td><td>2</td></tr><tr><td>LL0000668</td><td>5544000.00</td><td>2015-08-11</td><td>30</td><td>360</td><td>2.15</td><td>3.75</td><td>0.04</td><td>25656.26</td><td>52</td><td>4209874.65</td><td>5804200.00</td><td>investment property</td><td>Zariah</td><td>Imani</td><td>Drake</td><td>978-49-9635</td><td>903-987-8861</td><td>Physician</td><td>5</td><td>43 CONDO OFFICE BUILDINGS                  </td><td>4</td><td>RB</td><td>55 EAST 59TH   STREET</td><td>12</td><td>10175</td><td>New York City</td><td>NY</td><td>1</td><td>null</td><td>null</td><td>4</td></tr><tr><td>LL0001687</td><td>5544000.00</td><td>2019-01-20</td><td>30</td><td>360</td><td>2.79</td><td>4.39</td><td>0.04</td><td>27709.81</td><td>11</td><td>5239192.06</td><td>5741300.00</td><td>commerical property</td><td>Easton</td><td>Lincoln</td><td>Whitmore</td><td>565-55-5455</td><td>889-027-5571</td><td>Physician</td><td>12</td><td>31 COMMERCIAL VACANT LAND                  </td><td>4</td><td>V1</td><td>189 MONTAGUE STREET</td><td>5</td><td>10163</td><td>New York City</td><td>NY</td><td>1</td><td>10000</td><td>0</td><td>4</td></tr><tr><td>LL0000509</td><td>5511000.00</td><td>2015-03-16</td><td>30</td><td>360</td><td>2.10</td><td>3.70</td><td>0.04</td><td>25347.50</td><td>57</td><td>4066192.69</td><td>5718600.00</td><td>commerical property</td><td>Anthony</td><td>Aiden</td><td>Corey</td><td>639-59-2036</td><td>985-961-7606</td><td>Portfolio Manager</td><td>4</td><td>14 RENTALS - 4-10 UNIT                     </td><td>2B</td><td>S9</td><td>292 ATLANTIC AVENUE</td><td>3</td><td>10003</td><td>New York City</td><td>NY</td><td>8</td><td>3200</td><td>7500</td><td>2</td></tr><tr><td>LL0001500</td><td>5544000.00</td><td>2013-05-27</td><td>30</td><td>360</td><td>2.01</td><td>3.61</td><td>0.04</td><td>25218.00</td><td>79</td><td>3551777.92</td><td>5664500.00</td><td>commerical property</td><td>Ryleigh</td><td>Kate</td><td>Cunningham</td><td>724-62-0952</td><td>248-747-2217</td><td>President</td><td>11</td><td>13 CONDOS - ELEVATOR APARTMENTS            </td><td>2</td><td>R4</td><td>147 WAVERLY PLACE</td><td>9</td><td>10039</td><td>New York City</td><td>NY</td><td>1</td><td>null</td><td>null</td><td>2</td></tr><tr><td>LL0001191</td><td>5478000.00</td><td>2019-09-11</td><td>30</td><td>360</td><td>1.75</td><td>3.35</td><td>0.03</td><td>24127.15</td><td>3</td><td>5405618.54</td><td>5483600.00</td><td>commerical property</td><td>Skyla</td><td>Carter</td><td>Wall</td><td>312-15-1961</td><td>966-193-9111</td><td>Vice president</td><td>10</td><td>13 CONDOS - ELEVATOR APARTMENTS            </td><td>2</td><td>R4</td><td>235 WEST 71ST   STREET</td><td>7</td><td>10178</td><td>New York City</td><td>NY</td><td>1</td><td>null</td><td>null</td><td>2</td></tr><tr><td>LL0001293</td><td>5346000.00</td><td>2013-12-20</td><td>30</td><td>360</td><td>2.89</td><td>4.49</td><td>0.04</td><td>27039.77</td><td>72</td><td>3399136.53</td><td>5456150.00</td><td>home</td><td>Jack</td><td>Luke</td><td>Parham</td><td>101-54-0427</td><td>357-032-9313</td><td>Senior Vice President</td><td>15</td><td>14 RENTALS - 4-10 UNIT                     </td><td>2A</td><td>S3</td><td>574 ATLANTIC AVENUE</td><td>3</td><td>10114</td><td>New York City</td><td>NY</td><td>4</td><td>1800</td><td>5200</td><td>2</td></tr><tr><td>LL0001328</td><td>5181000.00</td><td>2014-01-11</td><td>30</td><td>360</td><td>2.88</td><td>4.48</td><td>0.04</td><td>26174.46</td><td>71</td><td>3322613.25</td><td>5290050.00</td><td>home</td><td>Eduardo</td><td>Nehemiah</td><td>Eller</td><td>970-72-6349</td><td>281-881-6739</td><td>Director</td><td>16</td><td>15 CONDOS - 2-10 UNIT RESIDENTIAL          </td><td>2C</td><td>R1</td><td>17 EAST 12TH STREET</td><td>3</td><td>10090</td><td>New York City</td><td>NY</td><td>1</td><td>null</td><td>null</td><td>2</td></tr><tr><td>LL0000659</td><td>5082000.00</td><td>2015-09-08</td><td>30</td><td>360</td><td>2.20</td><td>3.80</td><td>0.04</td><td>23665.49</td><td>51</td><td>3875060.02</td><td>5280800.00</td><td>commerical property</td><td>Justin</td><td>Ryder</td><td>Thurston</td><td>951-82-1046</td><td>894-825-6348</td><td>Pilot</td><td>7</td><td>15 CONDOS - 2-10 UNIT RESIDENTIAL          </td><td>2C</td><td>R1</td><td>56 WALKER STREET</td><td>1</td><td>10119</td><td>New York City</td><td>NY</td><td>1</td><td>null</td><td>null</td><td>2</td></tr><tr><td>LL0001291</td><td>4851000.00</td><td>2017-09-11</td><td>30</td><td>360</td><td>2.13</td><td>3.73</td><td>0.04</td><td>22399.73</td><td>27</td><td>4246207.42</td><td>5073100.00</td><td>investment property</td><td>Kylie</td><td>Madison</td><td>Bailey</td><td>454-95-6147</td><td>381-631-0918</td><td>Director</td><td>12</td><td>15 CONDOS - 2-10 UNIT RESIDENTIAL          </td><td>2C</td><td>R1</td><td>37 EAST 12TH   STREET</td><td>6</td><td>10030</td><td>New York City</td><td>NY</td><td>1</td><td>null</td><td>null</td><td>2</td></tr><tr><td>LL0000735</td><td>4752000.00</td><td>2015-07-27</td><td>30</td><td>360</td><td>2.23</td><td>3.83</td><td>0.04</td><td>22209.98</td><td>53</td><td>3574871.26</td><td>5012950.00</td><td>home</td><td>Cecelia</td><td>Regina</td><td>Mckenzie</td><td>146-17-3059</td><td>661-249-5919</td><td>Attorney</td><td>2</td><td>15 CONDOS - 2-10 UNIT RESIDENTIAL          </td><td>2C</td><td>R1</td><td>37 EAST 12TH STREET</td><td>5</td><td>10031</td><td>New York City</td><td>NY</td><td>1</td><td>null</td><td>null</td><td>2</td></tr><tr><td>LL0000368</td><td>4488000.00</td><td>2014-08-06</td><td>30</td><td>360</td><td>2.49</td><td>4.09</td><td>0.04</td><td>21649.51</td><td>64</td><td>3102431.37</td><td>4766700.00</td><td>commerical property</td><td>Hope</td><td>Allie</td><td>Morrison</td><td>462-51-0298</td><td>301-763-0708</td><td>Op Ex Practice Lead-Senior Consultant</td><td>11</td><td>13 CONDOS - ELEVATOR APARTMENTS            </td><td>2</td><td>R4</td><td>10 MADISON SQUARE WEST</td><td>11F</td><td>10281</td><td>New York City</td><td>NY</td><td>1</td><td>null</td><td>null</td><td>2</td></tr><tr><td>LL0000514</td><td>4536000.00</td><td>2014-07-23</td><td>30</td><td>360</td><td>2.48</td><td>4.08</td><td>0.04</td><td>21852.15</td><td>65</td><td>3115610.53</td><td>4695400.00</td><td>home</td><td>Carmen</td><td>Bethany</td><td>Cross</td><td>249-87-1376</td><td>222-461-2114</td><td>Chief Medical Officer</td><td>4</td><td>46 CONDO STORE BUILDINGS                   </td><td>4</td><td>RK</td><td>61 GREEN STREET</td><td>16</td><td>10260</td><td>New York City</td><td>NY</td><td>1</td><td>0</td><td>0</td><td>4</td></tr><tr><td>LL0001095</td><td>4464000.00</td><td>2014-10-21</td><td>30</td><td>360</td><td>2.23</td><td>3.83</td><td>0.04</td><td>20866.46</td><td>62</td><td>3170279.33</td><td>4678900.00</td><td>commerical property</td><td>Elias</td><td>Zachary</td><td>Carbajal</td><td>529-54-1734</td><td>440-863-2478</td><td>VP Administrative Services</td><td>9</td><td>43 CONDO OFFICE BUILDINGS                  </td><td>4</td><td>RB</td><td>15 WEST 34TH   STREET</td><td>5</td><td>10023</td><td>New York City</td><td>NY</td><td>1</td><td>null</td><td>null</td><td>4</td></tr><tr><td>LL0001018</td><td>4344000.00</td><td>2018-07-24</td><td>30</td><td>360</td><td>2.95</td><td>4.55</td><td>0.05</td><td>22129.30</td><td>17</td><td>3967801.90</td><td>4370300.00</td><td>commerical property</td><td>Ethan</td><td>Carlos</td><td>Willoughby</td><td>218-50-0967</td><td>330-330-9153</td><td>Agent/CEO</td><td>17</td><td>13 CONDOS - ELEVATOR APARTMENTS            </td><td>2</td><td>R4</td><td>212 FIFTH AVENUE</td><td>10C</td><td>10162</td><td>New York City</td><td>NY</td><td>1</td><td>null</td><td>null</td><td>2</td></tr><tr><td>LL0000663</td><td>4224000.00</td><td>2014-01-04</td><td>30</td><td>360</td><td>3.01</td><td>4.61</td><td>0.05</td><td>21669.25</td><td>71</td><td>2685483.46</td><td>4333400.00</td><td>commerical property</td><td>Kevin</td><td>Ian</td><td>James</td><td>417-45-5317</td><td>564-145-8588</td><td>Pediatric Cardiologist</td><td>12</td><td>15 CONDOS - 2-10 UNIT RESIDENTIAL          </td><td>2C</td><td>R1</td><td>42 LISPENARD STREET</td><td>3</td><td>10260</td><td>New York City</td><td>NY</td><td>1</td><td>null</td><td>null</td><td>2</td></tr><tr><td>LL0001197</td><td>4176000.00</td><td>2015-08-06</td><td>30</td><td>360</td><td>2.23</td><td>3.83</td><td>0.04</td><td>19520.24</td><td>52</td><td>3160947.57</td><td>4316450.00</td><td>investment property</td><td>Jaiden</td><td>Conner</td><td>Mckenzie</td><td>904-94-5398</td><td>325-615-1721</td><td>Regional Director</td><td>14</td><td>13 CONDOS - ELEVATOR APARTMENTS            </td><td>2</td><td>R4</td><td>303 EAST 77TH STREET</td><td>4</td><td>10167</td><td>New York City</td><td>NY</td><td>1</td><td>null</td><td>null</td><td>2</td></tr><tr><td>LL0001144</td><td>3894000.00</td><td>2018-11-28</td><td>30</td><td>360</td><td>3.06</td><td>4.66</td><td>0.05</td><td>20092.90</td><td>13</td><td>3632792.26</td><td>4033950.00</td><td>commerical property</td><td>Jose</td><td>Dominic</td><td>Mccloud</td><td>604-38-5747</td><td>377-752-5598</td><td>Realtor</td><td>13</td><td>15 CONDOS - 2-10 UNIT RESIDENTIAL          </td><td>2C</td><td>R1</td><td>34 WEST 17TH   STREET</td><td>2</td><td>10103</td><td>New York City</td><td>NY</td><td>1</td><td>null</td><td>null</td><td>2</td></tr><tr><td>LL0000718</td><td>3696000.00</td><td>2018-06-17</td><td>30</td><td>360</td><td>2.93</td><td>4.53</td><td>0.05</td><td>18784.23</td><td>18</td><td>3357883.85</td><td>3784150.00</td><td>commerical property</td><td>Anna</td><td>Madison</td><td>Mitchell</td><td>248-41-7333</td><td>625-508-4972</td><td>Owner</td><td>15</td><td>15 CONDOS - 2-10 UNIT RESIDENTIAL          </td><td>2C</td><td>R1</td><td>64 EAST 1ST STREET</td><td>4</td><td>10279</td><td>New York City</td><td>NY</td><td>1</td><td>null</td><td>null</td><td>2</td></tr><tr><td>LL0001659</td><td>1900000.00</td><td>2018-10-11</td><td>30</td><td>360</td><td>3.14</td><td>4.74</td><td>0.05</td><td>9897.56</td><td>14</td><td>1761434.14</td><td>2042350.00</td><td>home</td><td>Malachi</td><td>Joel</td><td>Meyer</td><td>173-67-7516</td><td>251-671-0741</td><td>Senior sales </td><td>14</td><td>15 CONDOS - 2-10 UNIT RESIDENTIAL          </td><td>2C</td><td>R1</td><td>350 DEGRAW STREET</td><td>3</td><td>10112</td><td>New York City</td><td>NY</td><td>1</td><td>0</td><td>0</td><td>2</td></tr></tbody></table></div>"
      ]
     },
     "metadata": {
      "application/vnd.databricks.v1+output": {
       "addedWidgets": {},
       "aggData": [],
       "aggError": "",
       "aggOverflow": false,
       "aggSchema": [],
       "aggSeriesLimitReached": false,
       "aggType": "",
       "arguments": {},
       "columnCustomDisplayInfos": {},
       "data": [
        [
         "LL0000064",
         "6138000.00",
         "2013-09-25",
         30,
         360,
         "2.63",
         "4.22",
         "0.04",
         "30101.92",
         75,
         "3880356.26",
         "6432450.00",
         "investment property",
         "Damian",
         "Andres",
         "Worthington",
         "452-66-1934",
         "776-744-6579",
         "executive vice prsident",
         12,
         "07 RENTALS - WALKUP APARTMENTS             ",
         "2",
         "C1",
         "323 43RD   STREET",
         "24",
         10156,
         "New York City",
         "NY",
         24,
         6261,
         21000,
         2
        ],
        [
         "LL0001678",
         "6171000.00",
         "2015-05-21",
         30,
         360,
         "2.19",
         "3.78",
         "0.04",
         "28698.05",
         55,
         "4592607.25",
         "6255300.00",
         "commerical property",
         "Aliyah",
         "Presley",
         "Meyer",
         "407-75-3282",
         "851-266-8749",
         "FINANCIAL ADVISOR",
         10,
         "13 CONDOS - ELEVATOR APARTMENTS            ",
         "2",
         "R4",
         "25 MERCER STREET",
         "5",
         10106,
         "New York City",
         "NY",
         1,
         null,
         null,
         2
        ],
        [
         "LL0000467",
         "6171000.00",
         "2015-11-19",
         30,
         360,
         "2.24",
         "3.83",
         "0.04",
         "28873.80",
         49,
         "4756183.90",
         "6246200.00",
         "home",
         "Titus",
         "Fernando",
         "Wall",
         "962-50-7580",
         "249-580-6538",
         "Managing Director",
         7,
         "13 CONDOS - ELEVATOR APARTMENTS            ",
         "2",
         "R4",
         "145 WEST 11TH",
         "5",
         10151,
         "New York City",
         "NY",
         1,
         null,
         null,
         2
        ],
        [
         "LL0000080",
         "5940000.00",
         "2012-09-14",
         30,
         360,
         "1.88",
         "3.47",
         "0.03",
         "26587.12",
         87,
         "3626920.62",
         "6133250.00",
         "commerical property",
         "Christian",
         "Isaac",
         "Lombardo",
         "277-63-5491",
         "476-925-9180",
         "Claims Consultant",
         7,
         "07 RENTALS - WALKUP APARTMENTS             ",
         "2",
         "C1",
         "427 DEAN STREET",
         "16",
         10119,
         "New York City",
         "NY",
         17,
         4808,
         16200,
         2
        ],
        [
         "LL0000668",
         "5544000.00",
         "2015-08-11",
         30,
         360,
         "2.15",
         "3.75",
         "0.04",
         "25656.26",
         52,
         "4209874.65",
         "5804200.00",
         "investment property",
         "Zariah",
         "Imani",
         "Drake",
         "978-49-9635",
         "903-987-8861",
         "Physician",
         5,
         "43 CONDO OFFICE BUILDINGS                  ",
         "4",
         "RB",
         "55 EAST 59TH   STREET",
         "12",
         10175,
         "New York City",
         "NY",
         1,
         null,
         null,
         4
        ],
        [
         "LL0001687",
         "5544000.00",
         "2019-01-20",
         30,
         360,
         "2.79",
         "4.39",
         "0.04",
         "27709.81",
         11,
         "5239192.06",
         "5741300.00",
         "commerical property",
         "Easton",
         "Lincoln",
         "Whitmore",
         "565-55-5455",
         "889-027-5571",
         "Physician",
         12,
         "31 COMMERCIAL VACANT LAND                  ",
         "4",
         "V1",
         "189 MONTAGUE STREET",
         "5",
         10163,
         "New York City",
         "NY",
         1,
         10000,
         0,
         4
        ],
        [
         "LL0000509",
         "5511000.00",
         "2015-03-16",
         30,
         360,
         "2.10",
         "3.70",
         "0.04",
         "25347.50",
         57,
         "4066192.69",
         "5718600.00",
         "commerical property",
         "Anthony",
         "Aiden",
         "Corey",
         "639-59-2036",
         "985-961-7606",
         "Portfolio Manager",
         4,
         "14 RENTALS - 4-10 UNIT                     ",
         "2B",
         "S9",
         "292 ATLANTIC AVENUE",
         "3",
         10003,
         "New York City",
         "NY",
         8,
         3200,
         7500,
         2
        ],
        [
         "LL0001500",
         "5544000.00",
         "2013-05-27",
         30,
         360,
         "2.01",
         "3.61",
         "0.04",
         "25218.00",
         79,
         "3551777.92",
         "5664500.00",
         "commerical property",
         "Ryleigh",
         "Kate",
         "Cunningham",
         "724-62-0952",
         "248-747-2217",
         "President",
         11,
         "13 CONDOS - ELEVATOR APARTMENTS            ",
         "2",
         "R4",
         "147 WAVERLY PLACE",
         "9",
         10039,
         "New York City",
         "NY",
         1,
         null,
         null,
         2
        ],
        [
         "LL0001191",
         "5478000.00",
         "2019-09-11",
         30,
         360,
         "1.75",
         "3.35",
         "0.03",
         "24127.15",
         3,
         "5405618.54",
         "5483600.00",
         "commerical property",
         "Skyla",
         "Carter",
         "Wall",
         "312-15-1961",
         "966-193-9111",
         "Vice president",
         10,
         "13 CONDOS - ELEVATOR APARTMENTS            ",
         "2",
         "R4",
         "235 WEST 71ST   STREET",
         "7",
         10178,
         "New York City",
         "NY",
         1,
         null,
         null,
         2
        ],
        [
         "LL0001293",
         "5346000.00",
         "2013-12-20",
         30,
         360,
         "2.89",
         "4.49",
         "0.04",
         "27039.77",
         72,
         "3399136.53",
         "5456150.00",
         "home",
         "Jack",
         "Luke",
         "Parham",
         "101-54-0427",
         "357-032-9313",
         "Senior Vice President",
         15,
         "14 RENTALS - 4-10 UNIT                     ",
         "2A",
         "S3",
         "574 ATLANTIC AVENUE",
         "3",
         10114,
         "New York City",
         "NY",
         4,
         1800,
         5200,
         2
        ],
        [
         "LL0001328",
         "5181000.00",
         "2014-01-11",
         30,
         360,
         "2.88",
         "4.48",
         "0.04",
         "26174.46",
         71,
         "3322613.25",
         "5290050.00",
         "home",
         "Eduardo",
         "Nehemiah",
         "Eller",
         "970-72-6349",
         "281-881-6739",
         "Director",
         16,
         "15 CONDOS - 2-10 UNIT RESIDENTIAL          ",
         "2C",
         "R1",
         "17 EAST 12TH STREET",
         "3",
         10090,
         "New York City",
         "NY",
         1,
         null,
         null,
         2
        ],
        [
         "LL0000659",
         "5082000.00",
         "2015-09-08",
         30,
         360,
         "2.20",
         "3.80",
         "0.04",
         "23665.49",
         51,
         "3875060.02",
         "5280800.00",
         "commerical property",
         "Justin",
         "Ryder",
         "Thurston",
         "951-82-1046",
         "894-825-6348",
         "Pilot",
         7,
         "15 CONDOS - 2-10 UNIT RESIDENTIAL          ",
         "2C",
         "R1",
         "56 WALKER STREET",
         "1",
         10119,
         "New York City",
         "NY",
         1,
         null,
         null,
         2
        ],
        [
         "LL0001291",
         "4851000.00",
         "2017-09-11",
         30,
         360,
         "2.13",
         "3.73",
         "0.04",
         "22399.73",
         27,
         "4246207.42",
         "5073100.00",
         "investment property",
         "Kylie",
         "Madison",
         "Bailey",
         "454-95-6147",
         "381-631-0918",
         "Director",
         12,
         "15 CONDOS - 2-10 UNIT RESIDENTIAL          ",
         "2C",
         "R1",
         "37 EAST 12TH   STREET",
         "6",
         10030,
         "New York City",
         "NY",
         1,
         null,
         null,
         2
        ],
        [
         "LL0000735",
         "4752000.00",
         "2015-07-27",
         30,
         360,
         "2.23",
         "3.83",
         "0.04",
         "22209.98",
         53,
         "3574871.26",
         "5012950.00",
         "home",
         "Cecelia",
         "Regina",
         "Mckenzie",
         "146-17-3059",
         "661-249-5919",
         "Attorney",
         2,
         "15 CONDOS - 2-10 UNIT RESIDENTIAL          ",
         "2C",
         "R1",
         "37 EAST 12TH STREET",
         "5",
         10031,
         "New York City",
         "NY",
         1,
         null,
         null,
         2
        ],
        [
         "LL0000368",
         "4488000.00",
         "2014-08-06",
         30,
         360,
         "2.49",
         "4.09",
         "0.04",
         "21649.51",
         64,
         "3102431.37",
         "4766700.00",
         "commerical property",
         "Hope",
         "Allie",
         "Morrison",
         "462-51-0298",
         "301-763-0708",
         "Op Ex Practice Lead-Senior Consultant",
         11,
         "13 CONDOS - ELEVATOR APARTMENTS            ",
         "2",
         "R4",
         "10 MADISON SQUARE WEST",
         "11F",
         10281,
         "New York City",
         "NY",
         1,
         null,
         null,
         2
        ],
        [
         "LL0000514",
         "4536000.00",
         "2014-07-23",
         30,
         360,
         "2.48",
         "4.08",
         "0.04",
         "21852.15",
         65,
         "3115610.53",
         "4695400.00",
         "home",
         "Carmen",
         "Bethany",
         "Cross",
         "249-87-1376",
         "222-461-2114",
         "Chief Medical Officer",
         4,
         "46 CONDO STORE BUILDINGS                   ",
         "4",
         "RK",
         "61 GREEN STREET",
         "16",
         10260,
         "New York City",
         "NY",
         1,
         0,
         0,
         4
        ],
        [
         "LL0001095",
         "4464000.00",
         "2014-10-21",
         30,
         360,
         "2.23",
         "3.83",
         "0.04",
         "20866.46",
         62,
         "3170279.33",
         "4678900.00",
         "commerical property",
         "Elias",
         "Zachary",
         "Carbajal",
         "529-54-1734",
         "440-863-2478",
         "VP Administrative Services",
         9,
         "43 CONDO OFFICE BUILDINGS                  ",
         "4",
         "RB",
         "15 WEST 34TH   STREET",
         "5",
         10023,
         "New York City",
         "NY",
         1,
         null,
         null,
         4
        ],
        [
         "LL0001018",
         "4344000.00",
         "2018-07-24",
         30,
         360,
         "2.95",
         "4.55",
         "0.05",
         "22129.30",
         17,
         "3967801.90",
         "4370300.00",
         "commerical property",
         "Ethan",
         "Carlos",
         "Willoughby",
         "218-50-0967",
         "330-330-9153",
         "Agent/CEO",
         17,
         "13 CONDOS - ELEVATOR APARTMENTS            ",
         "2",
         "R4",
         "212 FIFTH AVENUE",
         "10C",
         10162,
         "New York City",
         "NY",
         1,
         null,
         null,
         2
        ],
        [
         "LL0000663",
         "4224000.00",
         "2014-01-04",
         30,
         360,
         "3.01",
         "4.61",
         "0.05",
         "21669.25",
         71,
         "2685483.46",
         "4333400.00",
         "commerical property",
         "Kevin",
         "Ian",
         "James",
         "417-45-5317",
         "564-145-8588",
         "Pediatric Cardiologist",
         12,
         "15 CONDOS - 2-10 UNIT RESIDENTIAL          ",
         "2C",
         "R1",
         "42 LISPENARD STREET",
         "3",
         10260,
         "New York City",
         "NY",
         1,
         null,
         null,
         2
        ],
        [
         "LL0001197",
         "4176000.00",
         "2015-08-06",
         30,
         360,
         "2.23",
         "3.83",
         "0.04",
         "19520.24",
         52,
         "3160947.57",
         "4316450.00",
         "investment property",
         "Jaiden",
         "Conner",
         "Mckenzie",
         "904-94-5398",
         "325-615-1721",
         "Regional Director",
         14,
         "13 CONDOS - ELEVATOR APARTMENTS            ",
         "2",
         "R4",
         "303 EAST 77TH STREET",
         "4",
         10167,
         "New York City",
         "NY",
         1,
         null,
         null,
         2
        ],
        [
         "LL0001144",
         "3894000.00",
         "2018-11-28",
         30,
         360,
         "3.06",
         "4.66",
         "0.05",
         "20092.90",
         13,
         "3632792.26",
         "4033950.00",
         "commerical property",
         "Jose",
         "Dominic",
         "Mccloud",
         "604-38-5747",
         "377-752-5598",
         "Realtor",
         13,
         "15 CONDOS - 2-10 UNIT RESIDENTIAL          ",
         "2C",
         "R1",
         "34 WEST 17TH   STREET",
         "2",
         10103,
         "New York City",
         "NY",
         1,
         null,
         null,
         2
        ],
        [
         "LL0000718",
         "3696000.00",
         "2018-06-17",
         30,
         360,
         "2.93",
         "4.53",
         "0.05",
         "18784.23",
         18,
         "3357883.85",
         "3784150.00",
         "commerical property",
         "Anna",
         "Madison",
         "Mitchell",
         "248-41-7333",
         "625-508-4972",
         "Owner",
         15,
         "15 CONDOS - 2-10 UNIT RESIDENTIAL          ",
         "2C",
         "R1",
         "64 EAST 1ST STREET",
         "4",
         10279,
         "New York City",
         "NY",
         1,
         null,
         null,
         2
        ],
        [
         "LL0001659",
         "1900000.00",
         "2018-10-11",
         30,
         360,
         "3.14",
         "4.74",
         "0.05",
         "9897.56",
         14,
         "1761434.14",
         "2042350.00",
         "home",
         "Malachi",
         "Joel",
         "Meyer",
         "173-67-7516",
         "251-671-0741",
         "Senior sales ",
         14,
         "15 CONDOS - 2-10 UNIT RESIDENTIAL          ",
         "2C",
         "R1",
         "350 DEGRAW STREET",
         "3",
         10112,
         "New York City",
         "NY",
         1,
         0,
         0,
         2
        ]
       ],
       "datasetInfos": [],
       "dbfsResultPath": null,
       "isJsonSchema": true,
       "metadata": {},
       "overflow": false,
       "plotOptions": {
        "customPlotOptions": {},
        "displayType": "table",
        "pivotAggregation": null,
        "pivotColumns": null,
        "xColumns": null,
        "yColumns": null
       },
       "removedWidgets": [],
       "schema": [
        {
         "metadata": "{}",
         "name": "loan_id",
         "type": "\"string\""
        },
        {
         "metadata": "{}",
         "name": "funded_amount",
         "type": "\"decimal(10,2)\""
        },
        {
         "metadata": "{}",
         "name": "funded_date",
         "type": "\"date\""
        },
        {
         "metadata": "{}",
         "name": "duration_years",
         "type": "\"integer\""
        },
        {
         "metadata": "{}",
         "name": "duration_months",
         "type": "\"integer\""
        },
        {
         "metadata": "{}",
         "name": "10_yr_treasury_index_date_funded",
         "type": "\"decimal(10,2)\""
        },
        {
         "metadata": "{}",
         "name": "interest_rate_percent",
         "type": "\"decimal(5,2)\""
        },
        {
         "metadata": "{}",
         "name": "interest_rate",
         "type": "\"decimal(10,2)\""
        },
        {
         "metadata": "{}",
         "name": "payments",
         "type": "\"decimal(10,2)\""
        },
        {
         "metadata": "{}",
         "name": "total_past_payments",
         "type": "\"integer\""
        },
        {
         "metadata": "{}",
         "name": "loan_balance",
         "type": "\"decimal(10,2)\""
        },
        {
         "metadata": "{}",
         "name": "property_value",
         "type": "\"decimal(10,2)\""
        },
        {
         "metadata": "{}",
         "name": "purpose",
         "type": "\"string\""
        },
        {
         "metadata": "{}",
         "name": "firstname",
         "type": "\"string\""
        },
        {
         "metadata": "{}",
         "name": "middlename",
         "type": "\"string\""
        },
        {
         "metadata": "{}",
         "name": "lastname",
         "type": "\"string\""
        },
        {
         "metadata": "{}",
         "name": "social",
         "type": "\"string\""
        },
        {
         "metadata": "{}",
         "name": "phone",
         "type": "\"string\""
        },
        {
         "metadata": "{}",
         "name": "title",
         "type": "\"string\""
        },
        {
         "metadata": "{}",
         "name": "employment_length",
         "type": "\"integer\""
        },
        {
         "metadata": "{}",
         "name": "building_class_category",
         "type": "\"string\""
        },
        {
         "metadata": "{}",
         "name": "tax_class_at_present",
         "type": "\"string\""
        },
        {
         "metadata": "{}",
         "name": "building_class_at_present",
         "type": "\"string\""
        },
        {
         "metadata": "{}",
         "name": "address_1",
         "type": "\"string\""
        },
        {
         "metadata": "{}",
         "name": "address_2",
         "type": "\"string\""
        },
        {
         "metadata": "{}",
         "name": "zip_code",
         "type": "\"integer\""
        },
        {
         "metadata": "{}",
         "name": "city",
         "type": "\"string\""
        },
        {
         "metadata": "{}",
         "name": "state",
         "type": "\"string\""
        },
        {
         "metadata": "{}",
         "name": "total_units",
         "type": "\"integer\""
        },
        {
         "metadata": "{}",
         "name": "land_square_feet",
         "type": "\"integer\""
        },
        {
         "metadata": "{}",
         "name": "gross_square_feet",
         "type": "\"integer\""
        },
        {
         "metadata": "{}",
         "name": "tax_class_at_time_of_sale",
         "type": "\"integer\""
        }
       ],
       "type": "table"
      }
     },
     "output_type": "display_data"
    }
   ],
   "source": [
    "twenty_highest_clv_customers = clv_df.select(\"lastname\").orderBy(\"estimated_profit\", ascending=False).limit(20).rdd.flatMap(lambda x: x).collect()\n",
    "top_customers_df = luxury_loan_portfolio_df.filter(luxury_loan_portfolio_df.lastname.isin(twenty_highest_clv_customers))\n",
    "display(top_customers_df)"
   ]
  },
  {
   "cell_type": "markdown",
   "metadata": {
    "application/vnd.databricks.v1+cell": {
     "cellMetadata": {},
     "inputWidgets": {},
     "nuid": "d61388b5-4bf3-4c63-be49-9cbef671ad09",
     "showTitle": false,
     "title": ""
    }
   },
   "source": [
    "After finding twenty of the top customers with high CLV values, it was found that most of them had jobs and titles that were well-respected and high-paying such as CEO, Vice President, or higher-up at a company. Another interesting trend I found was that all of the properties such as condos, apartments, or buildings were located at New York City, where the rent is very high. "
   ]
  },
  {
   "cell_type": "markdown",
   "metadata": {
    "application/vnd.databricks.v1+cell": {
     "cellMetadata": {},
     "inputWidgets": {},
     "nuid": "9d660ea1-d4fd-4eec-bd6f-3ca211f70d29",
     "showTitle": false,
     "title": ""
    }
   },
   "source": [
    "K-Means Clustering of Customers based on Loans"
   ]
  },
  {
   "cell_type": "code",
   "execution_count": 0,
   "metadata": {
    "application/vnd.databricks.v1+cell": {
     "cellMetadata": {
      "byteLimit": 2048000,
      "rowLimit": 10000
     },
     "inputWidgets": {},
     "nuid": "86d28ea5-2685-4e81-9473-0a09ef67af44",
     "showTitle": false,
     "title": ""
    }
   },
   "outputs": [
    {
     "output_type": "display_data",
     "data": {
      "text/html": [
       "<style scoped>\n",
       "  .table-result-container {\n",
       "    max-height: 300px;\n",
       "    overflow: auto;\n",
       "  }\n",
       "  table, th, td {\n",
       "    border: 1px solid black;\n",
       "    border-collapse: collapse;\n",
       "  }\n",
       "  th, td {\n",
       "    padding: 5px;\n",
       "  }\n",
       "  th {\n",
       "    text-align: left;\n",
       "  }\n",
       "</style><div class='table-result-container'><table class='table-result'><thead style='background-color: white'><tr><th>loan_id</th><th>funded_amount</th><th>funded_date</th><th>duration_years</th><th>duration_months</th><th>10_yr_treasury_index_date_funded</th><th>interest_rate_percent</th><th>interest_rate</th><th>payments</th><th>total_past_payments</th><th>loan_balance</th><th>property_value</th><th>purpose</th><th>firstname</th><th>middlename</th><th>lastname</th><th>social</th><th>phone</th><th>title</th><th>employment_length</th><th>building_class_category</th><th>tax_class_at_present</th><th>building_class_at_present</th><th>address_1</th><th>address_2</th><th>zip_code</th><th>city</th><th>state</th><th>total_units</th><th>land_square_feet</th><th>gross_square_feet</th><th>tax_class_at_time_of_sale</th><th>features</th></tr></thead><tbody><tr><td>LL0000076</td><td>790000.000000000000000000</td><td>2012-04-27</td><td>20</td><td>240</td><td>1.960000000000000000</td><td>3.360000000000000000</td><td>0.030000000000000000</td><td>4524.650000000000000000</td><td>92</td><td>373732.180000000000000000</td><td>930250.000000000000000000</td><td>boat</td><td>Devin</td><td>Knox</td><td>Walters</td><td>972-69-4236</td><td>542-843-5089</td><td>Vice President Global Field Services</td><td>6</td><td>15 CONDOS - 2-10 UNIT RESIDENTIAL          </td><td>2C</td><td>R1</td><td>171 SOUTH 9TH   STREET</td><td>9</td><td>10001</td><td>New York City</td><td>NY</td><td>1</td><td>0</td><td>0</td><td>2</td><td>Map(vectorType -> dense, length -> 3, values -> List(0.03, 20.0, 92.0))</td></tr><tr><td>LL0000151</td><td>1720000.000000000000000000</td><td>2014-10-14</td><td>15</td><td>180</td><td>2.210000000000000000</td><td>3.510000000000000000</td><td>0.040000000000000000</td><td>12302.740000000000000000</td><td>62</td><td>957230.240000000000000000</td><td>1995250.000000000000000000</td><td>boat</td><td>Rhett</td><td>Felix</td><td>Calderon</td><td>577-13-5838</td><td>625-614-0118</td><td>Senior program manager </td><td>10</td><td>04 TAX CLASS 1 CONDOS                      </td><td>1A</td><td>R3</td><td>1242 E 80TH ST</td><td>19</td><td>10104</td><td>New York City</td><td>NY</td><td>1</td><td>0</td><td>0</td><td>1</td><td>Map(vectorType -> dense, length -> 3, values -> List(0.04, 15.0, 62.0))</td></tr><tr><td>LL0000161</td><td>3720000.000000000000000000</td><td>2014-06-07</td><td>15</td><td>180</td><td>2.600000000000000000</td><td>3.900000000000000000</td><td>0.040000000000000000</td><td>27322.920000000000000000</td><td>66</td><td>1916687.350000000000000000</td><td>3881700.000000000000000000</td><td>boat</td><td>Jax</td><td>Sean</td><td>Richards</td><td>263-55-1721</td><td>255-592-5290</td><td>null</td><td>1</td><td>04 TAX CLASS 1 CONDOS                      </td><td>1A</td><td>R3</td><td>1884 53RD STREET</td><td>2</td><td>10029</td><td>New York City</td><td>NY</td><td>1</td><td>0</td><td>0</td><td>1</td><td>Map(vectorType -> dense, length -> 3, values -> List(0.04, 15.0, 66.0))</td></tr><tr><td>LL0000175</td><td>1079000.000000000000000000</td><td>2012-02-23</td><td>20</td><td>240</td><td>1.990000000000000000</td><td>3.390000000000000000</td><td>0.030000000000000000</td><td>6196.400000000000000000</td><td>94</td><td>496538.750000000000000000</td><td>1402450.000000000000000000</td><td>boat</td><td>Nicholas</td><td>Jeremy</td><td>Priest</td><td>512-60-5121</td><td>757-337-7073</td><td>Vice presiden</td><td>17</td><td>15 CONDOS - 2-10 UNIT RESIDENTIAL          </td><td>2C</td><td>R1</td><td>79 EAGLE STREET</td><td>6</td><td>10010</td><td>New York City</td><td>NY</td><td>1</td><td>0</td><td>0</td><td>2</td><td>Map(vectorType -> dense, length -> 3, values -> List(0.03, 20.0, 94.0))</td></tr><tr><td>LL0000178</td><td>2028000.000000000000000000</td><td>2016-04-01</td><td>20</td><td>240</td><td>1.790000000000000000</td><td>3.190000000000000000</td><td>0.030000000000000000</td><td>11439.050000000000000000</td><td>45</td><td>1513242.570000000000000000</td><td>2216500.000000000000000000</td><td>boat</td><td>Riley</td><td>Matteo</td><td>Hoffman</td><td>271-64-4634</td><td>478-573-2416</td><td>Bank examiner </td><td>5</td><td>49 CONDO WAREHOUSES/FACTORY/INDUS          </td><td>4</td><td>RW</td><td>34 NORTH 7TH   STREET</td><td>5</td><td>10172</td><td>New York City</td><td>NY</td><td>1</td><td>0</td><td>0</td><td>4</td><td>Map(vectorType -> dense, length -> 3, values -> List(0.03, 20.0, 45.0))</td></tr></tbody></table></div>"
      ]
     },
     "metadata": {
      "application/vnd.databricks.v1+output": {
       "addedWidgets": {},
       "aggData": [],
       "aggError": "",
       "aggOverflow": false,
       "aggSchema": [],
       "aggSeriesLimitReached": false,
       "aggType": "",
       "arguments": {},
       "columnCustomDisplayInfos": {},
       "data": [
        [
         "LL0000076",
         "790000.000000000000000000",
         "2012-04-27",
         20,
         240,
         "1.960000000000000000",
         "3.360000000000000000",
         "0.030000000000000000",
         "4524.650000000000000000",
         92,
         "373732.180000000000000000",
         "930250.000000000000000000",
         "boat",
         "Devin",
         "Knox",
         "Walters",
         "972-69-4236",
         "542-843-5089",
         "Vice President Global Field Services",
         6,
         "15 CONDOS - 2-10 UNIT RESIDENTIAL          ",
         "2C",
         "R1",
         "171 SOUTH 9TH   STREET",
         "9",
         10001,
         "New York City",
         "NY",
         1,
         0,
         0,
         2,
         {
          "length": 3,
          "values": [
           0.03,
           20.0,
           92.0
          ],
          "vectorType": "dense"
         }
        ],
        [
         "LL0000151",
         "1720000.000000000000000000",
         "2014-10-14",
         15,
         180,
         "2.210000000000000000",
         "3.510000000000000000",
         "0.040000000000000000",
         "12302.740000000000000000",
         62,
         "957230.240000000000000000",
         "1995250.000000000000000000",
         "boat",
         "Rhett",
         "Felix",
         "Calderon",
         "577-13-5838",
         "625-614-0118",
         "Senior program manager ",
         10,
         "04 TAX CLASS 1 CONDOS                      ",
         "1A",
         "R3",
         "1242 E 80TH ST",
         "19",
         10104,
         "New York City",
         "NY",
         1,
         0,
         0,
         1,
         {
          "length": 3,
          "values": [
           0.04,
           15.0,
           62.0
          ],
          "vectorType": "dense"
         }
        ],
        [
         "LL0000161",
         "3720000.000000000000000000",
         "2014-06-07",
         15,
         180,
         "2.600000000000000000",
         "3.900000000000000000",
         "0.040000000000000000",
         "27322.920000000000000000",
         66,
         "1916687.350000000000000000",
         "3881700.000000000000000000",
         "boat",
         "Jax",
         "Sean",
         "Richards",
         "263-55-1721",
         "255-592-5290",
         null,
         1,
         "04 TAX CLASS 1 CONDOS                      ",
         "1A",
         "R3",
         "1884 53RD STREET",
         "2",
         10029,
         "New York City",
         "NY",
         1,
         0,
         0,
         1,
         {
          "length": 3,
          "values": [
           0.04,
           15.0,
           66.0
          ],
          "vectorType": "dense"
         }
        ],
        [
         "LL0000175",
         "1079000.000000000000000000",
         "2012-02-23",
         20,
         240,
         "1.990000000000000000",
         "3.390000000000000000",
         "0.030000000000000000",
         "6196.400000000000000000",
         94,
         "496538.750000000000000000",
         "1402450.000000000000000000",
         "boat",
         "Nicholas",
         "Jeremy",
         "Priest",
         "512-60-5121",
         "757-337-7073",
         "Vice presiden",
         17,
         "15 CONDOS - 2-10 UNIT RESIDENTIAL          ",
         "2C",
         "R1",
         "79 EAGLE STREET",
         "6",
         10010,
         "New York City",
         "NY",
         1,
         0,
         0,
         2,
         {
          "length": 3,
          "values": [
           0.03,
           20.0,
           94.0
          ],
          "vectorType": "dense"
         }
        ],
        [
         "LL0000178",
         "2028000.000000000000000000",
         "2016-04-01",
         20,
         240,
         "1.790000000000000000",
         "3.190000000000000000",
         "0.030000000000000000",
         "11439.050000000000000000",
         45,
         "1513242.570000000000000000",
         "2216500.000000000000000000",
         "boat",
         "Riley",
         "Matteo",
         "Hoffman",
         "271-64-4634",
         "478-573-2416",
         "Bank examiner ",
         5,
         "49 CONDO WAREHOUSES/FACTORY/INDUS          ",
         "4",
         "RW",
         "34 NORTH 7TH   STREET",
         "5",
         10172,
         "New York City",
         "NY",
         1,
         0,
         0,
         4,
         {
          "length": 3,
          "values": [
           0.03,
           20.0,
           45.0
          ],
          "vectorType": "dense"
         }
        ]
       ],
       "datasetInfos": [],
       "dbfsResultPath": null,
       "isJsonSchema": true,
       "metadata": {},
       "overflow": false,
       "plotOptions": {
        "customPlotOptions": {},
        "displayType": "table",
        "pivotAggregation": null,
        "pivotColumns": null,
        "xColumns": null,
        "yColumns": null
       },
       "removedWidgets": [],
       "schema": [
        {
         "metadata": "{}",
         "name": "loan_id",
         "type": "\"string\""
        },
        {
         "metadata": "{}",
         "name": "funded_amount",
         "type": "\"decimal(38,18)\""
        },
        {
         "metadata": "{}",
         "name": "funded_date",
         "type": "\"date\""
        },
        {
         "metadata": "{}",
         "name": "duration_years",
         "type": "\"long\""
        },
        {
         "metadata": "{}",
         "name": "duration_months",
         "type": "\"long\""
        },
        {
         "metadata": "{}",
         "name": "10_yr_treasury_index_date_funded",
         "type": "\"decimal(38,18)\""
        },
        {
         "metadata": "{}",
         "name": "interest_rate_percent",
         "type": "\"decimal(38,18)\""
        },
        {
         "metadata": "{}",
         "name": "interest_rate",
         "type": "\"decimal(38,18)\""
        },
        {
         "metadata": "{}",
         "name": "payments",
         "type": "\"decimal(38,18)\""
        },
        {
         "metadata": "{}",
         "name": "total_past_payments",
         "type": "\"long\""
        },
        {
         "metadata": "{}",
         "name": "loan_balance",
         "type": "\"decimal(38,18)\""
        },
        {
         "metadata": "{}",
         "name": "property_value",
         "type": "\"decimal(38,18)\""
        },
        {
         "metadata": "{}",
         "name": "purpose",
         "type": "\"string\""
        },
        {
         "metadata": "{}",
         "name": "firstname",
         "type": "\"string\""
        },
        {
         "metadata": "{}",
         "name": "middlename",
         "type": "\"string\""
        },
        {
         "metadata": "{}",
         "name": "lastname",
         "type": "\"string\""
        },
        {
         "metadata": "{}",
         "name": "social",
         "type": "\"string\""
        },
        {
         "metadata": "{}",
         "name": "phone",
         "type": "\"string\""
        },
        {
         "metadata": "{}",
         "name": "title",
         "type": "\"string\""
        },
        {
         "metadata": "{}",
         "name": "employment_length",
         "type": "\"long\""
        },
        {
         "metadata": "{}",
         "name": "building_class_category",
         "type": "\"string\""
        },
        {
         "metadata": "{}",
         "name": "tax_class_at_present",
         "type": "\"string\""
        },
        {
         "metadata": "{}",
         "name": "building_class_at_present",
         "type": "\"string\""
        },
        {
         "metadata": "{}",
         "name": "address_1",
         "type": "\"string\""
        },
        {
         "metadata": "{}",
         "name": "address_2",
         "type": "\"string\""
        },
        {
         "metadata": "{}",
         "name": "zip_code",
         "type": "\"long\""
        },
        {
         "metadata": "{}",
         "name": "city",
         "type": "\"string\""
        },
        {
         "metadata": "{}",
         "name": "state",
         "type": "\"string\""
        },
        {
         "metadata": "{}",
         "name": "total_units",
         "type": "\"long\""
        },
        {
         "metadata": "{}",
         "name": "land_square_feet",
         "type": "\"long\""
        },
        {
         "metadata": "{}",
         "name": "gross_square_feet",
         "type": "\"long\""
        },
        {
         "metadata": "{}",
         "name": "tax_class_at_time_of_sale",
         "type": "\"long\""
        },
        {
         "metadata": "{}",
         "name": "features",
         "type": "{\"type\":\"udt\",\"class\":\"org.apache.spark.ml.linalg.VectorUDT\",\"pyClass\":\"pyspark.ml.linalg.VectorUDT\",\"sqlType\":{\"type\":\"struct\",\"fields\":[{\"name\":\"type\",\"type\":\"byte\",\"nullable\":false,\"metadata\":{}},{\"name\":\"size\",\"type\":\"integer\",\"nullable\":true,\"metadata\":{}},{\"name\":\"indices\",\"type\":{\"type\":\"array\",\"elementType\":\"integer\",\"containsNull\":false},\"nullable\":true,\"metadata\":{}},{\"name\":\"values\",\"type\":{\"type\":\"array\",\"elementType\":\"double\",\"containsNull\":false},\"nullable\":true,\"metadata\":{}}]}}"
        }
       ],
       "type": "table"
      }
     },
     "output_type": "display_data"
    }
   ],
   "source": [
    "input_columns = ['interest_rate', 'duration_years', 'total_past_payments']\n",
    "assembler = VectorAssembler(inputCols=input_columns, outputCol='features')\n",
    "features_df = assembler.transform(luxury_loan_portfolio_df)\n",
    "display(features_df.head(5))\n"
   ]
  },
  {
   "cell_type": "code",
   "execution_count": 0,
   "metadata": {
    "application/vnd.databricks.v1+cell": {
     "cellMetadata": {
      "byteLimit": 2048000,
      "rowLimit": 10000
     },
     "inputWidgets": {},
     "nuid": "8342ea1f-519e-4717-beb2-41e834aad3de",
     "showTitle": false,
     "title": ""
    }
   },
   "outputs": [
    {
     "output_type": "stream",
     "name": "stdout",
     "output_type": "stream",
     "text": [
      "+-------------+--------------+-------------------+-------+\n|interest_rate|duration_years|total_past_payments|cluster|\n+-------------+--------------+-------------------+-------+\n|         0.03|            20|                 92|      0|\n|         0.04|            15|                 62|      4|\n|         0.04|            15|                 66|      4|\n|         0.03|            20|                 94|      0|\n|         0.03|            20|                 45|      2|\n|         0.04|            20|                 26|      3|\n|         0.04|            15|                 24|      3|\n|         0.04|            20|                 26|      3|\n|         0.03|            15|                  2|      1|\n|         0.03|            20|                  3|      1|\n+-------------+--------------+-------------------+-------+\nonly showing top 10 rows\n\nCluster Centers: \n[3.34431138e-02 2.76047904e+01 8.65928144e+01]\n[ 0.03986772 27.60582011  9.5026455 ]\n[3.55095541e-02 2.70382166e+01 4.87929936e+01]\n[ 0.03892857 27.66369048 29.29464286]\n[4.00949367e-02 2.68196203e+01 6.78354430e+01]\n"
     ]
    }
   ],
   "source": [
    "kmeans = KMeans(k=5, seed=1, featuresCol='features', predictionCol='cluster')\n",
    "kmeans_model = kmeans.fit(features_df)\n",
    "segmented_customer_by_loans_df = kmeans_model.transform(features_df)\n",
    "segmented_customer_by_loans_df.select('interest_rate', 'duration_years', 'total_past_payments', 'cluster').show(10)\n",
    "\n",
    "cluster_centers = kmeans_model.clusterCenters()\n",
    "print(\"Cluster Centers: \")\n",
    "for center in cluster_centers:\n",
    "    print(center)"
   ]
  },
  {
   "cell_type": "markdown",
   "metadata": {
    "application/vnd.databricks.v1+cell": {
     "cellMetadata": {},
     "inputWidgets": {},
     "nuid": "c6dcc8b0-b869-4ca1-83e8-d734296bfc7f",
     "showTitle": false,
     "title": ""
    }
   },
   "source": [
    "Cluster Visualization with Matplotlib"
   ]
  },
  {
   "cell_type": "code",
   "execution_count": 0,
   "metadata": {
    "application/vnd.databricks.v1+cell": {
     "cellMetadata": {
      "byteLimit": 2048000,
      "rowLimit": 10000
     },
     "inputWidgets": {},
     "nuid": "e81aea98-a53b-4eb5-ae45-6b91650e6718",
     "showTitle": false,
     "title": ""
    }
   },
   "outputs": [
    {
     "output_type": "display_data",
     "data": {
      "image/png": "[encoded data removed]"
     },
     "metadata": {
      "application/vnd.databricks.v1+output": {
       "addedWidgets": {},
       "arguments": {},
       "data": "data:image/png;base64,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\n",
       "datasetInfos": [],
       "metadata": {},
       "removedWidgets": [],
       "type": "image"
      }
     },
     "output_type": "display_data"
    }
   ],
   "source": [
    "cluster_centers_df = pd.DataFrame(cluster_centers, columns=input_columns)\n",
    "cluster_centers_spark_df = spark.createDataFrame(cluster_centers_df)\n",
    "centers_pd_df = cluster_centers_spark_df.toPandas()\n",
    "\n",
    "fig, axes = plt.subplots(1, 3, figsize=(18, 6))\n",
    "ylabels = [\"Interest rate\",\"Duration(Years)\",\"Number of Past Payments\"]\n",
    "\n",
    "for i, feature in enumerate(input_columns):\n",
    "    axes[i].bar(centers_pd_df.index, centers_pd_df[feature])\n",
    "    axes[i].set_title(f'{ylabels[i]} across customer clusters segmented by loans')\n",
    "    axes[i].set_xlabel('Cluster')\n",
    "    axes[i].set_ylabel(ylabels[i])\n",
    "\n",
    "fig.tight_layout(pad=2)\n",
    "plt.show()"
   ]
  },
  {
   "cell_type": "markdown",
   "metadata": {
    "application/vnd.databricks.v1+cell": {
     "cellMetadata": {},
     "inputWidgets": {},
     "nuid": "50026184-d9c8-4674-8d00-5dd95b36b11d",
     "showTitle": false,
     "title": ""
    }
   },
   "source": [
    "Risk Assessment"
   ]
  },
  {
   "cell_type": "markdown",
   "metadata": {
    "application/vnd.databricks.v1+cell": {
     "cellMetadata": {},
     "inputWidgets": {},
     "nuid": "37d7306e-35cd-4fae-a15e-e24748ae2c0c",
     "showTitle": false,
     "title": ""
    }
   },
   "source": [
    "Before we look at the three visualizations, we have to remember that these clusters were made from the luxury loan porforlio dataframe, meaning it does not represent the trends of commoners. \n",
    "Looking at the three histograms, we can see that the duration of the 5 clusters are very similar, so it is not significant when doing risk assessment. The interests rates for the 5 clusters are also quite similar, the 0 cluster being below the others, followed by 2 cluster. The 1, 3, and 4 clusters have similar interest rates. \n",
    "Now, let's look at the most differentiating visualization: Number of Past Payments\n",
    "There is a clear distinction of the number of payments between all 5 clusters, the order being 0 -> 4 -> 2 -> 3 -> 1 clusters from the greatest to the smallest. This order is also the order of the risky customer clusters because when the interest rate and the duration/number of past payments is high, the risk also increases. However, this is not the whole picture because a customer could have good credit score, meaning that they have been able to pay back loans even with high interest rates and durations. Therefore, more information about customers is needed before making a business decision. \n"
   ]
  },
  {
   "cell_type": "markdown",
   "metadata": {
    "application/vnd.databricks.v1+cell": {
     "cellMetadata": {},
     "inputWidgets": {},
     "nuid": "0f807dd8-fd9c-4ba8-9bce-a9e197c4f20a",
     "showTitle": false,
     "title": ""
    }
   },
   "source": [
    "Additional Exploration of KPI: Loan Default Rate"
   ]
  },
  {
   "cell_type": "code",
   "execution_count": 0,
   "metadata": {
    "application/vnd.databricks.v1+cell": {
     "cellMetadata": {
      "byteLimit": 2048000,
      "rowLimit": 10000
     },
     "inputWidgets": {},
     "nuid": "4b75fc40-0033-41fb-8648-f08059a7c194",
     "showTitle": false,
     "title": ""
    }
   },
   "outputs": [],
   "source": [
    "# If loan status included information about default loans, we can find the Loan Default Rate with the code below.\n",
    "default_loans_df = loans_df.filter(loans_df.status == \"default\")\n",
    "total_loans_count = loans_df.count()\n",
    "default_loans_count = default_loans_df.count()\n",
    "\n",
    "loan_default_rate = (default_loans_count / total_loans_count) * 100"
   ]
  }
 ],
 "metadata": {
  "application/vnd.databricks.v1+notebook": {
   "dashboards": [],
   "environmentMetadata": null,
   "language": "python",
   "notebookMetadata": {
    "pythonIndentUnit": 4
   },
   "notebookName": "Retail_Banking_Spark",
   "widgets": {}
  }
 },
 "nbformat": 4,
 "nbformat_minor": 0
}
